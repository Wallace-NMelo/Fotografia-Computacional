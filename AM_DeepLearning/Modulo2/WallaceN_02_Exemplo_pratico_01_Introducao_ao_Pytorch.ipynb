{
  "cells": [
    {
      "cell_type": "markdown",
      "metadata": {
        "id": "view-in-github",
        "colab_type": "text"
      },
      "source": [
        "<a href=\"https://colab.research.google.com/github/Wallace-NMelo/Fotografia-Computacional/blob/main/AM_DeepLearning/Modulo2/WallaceN_02_Exemplo_pratico_01_Introducao_ao_Pytorch.ipynb\" target=\"_parent\"><img src=\"https://colab.research.google.com/assets/colab-badge.svg\" alt=\"Open In Colab\"/></a>"
      ]
    },
    {
      "cell_type": "markdown",
      "metadata": {
        "id": "Nne_DFrByoPA"
      },
      "source": [
        "# Introdução ao Pytorch"
      ]
    },
    {
      "cell_type": "markdown",
      "metadata": {
        "id": "Z66PPosgyoPD"
      },
      "source": [
        "O Pytorch é uma *framework* para aplicações de modelos de redes neurais. Toda sua documentação pode ser vista no site oficial do [Pytorch](https://pytorch.org/).\n",
        "\n",
        "Esse tutorial apresenta alguns passos introdutórios para produção dos modelos de Deep Learning que serão aplicados e foi baseado no tutorial oferecido pelo [Pytorch Tutorial](https://pytorch.org/tutorials/beginner/basics/intro.html).\n",
        "O tutorial tem os seguintes passos:\n",
        "- Tensores\n",
        "- Datasets e Dataloader\n",
        "- Construção do Modelo\n",
        "- Autograd\n",
        "- Treinamento do modelo\n",
        "- Salvamento e Carregamento do modelo"
      ]
    },
    {
      "cell_type": "markdown",
      "metadata": {
        "id": "DmWd-4XjyoPE"
      },
      "source": [
        "Primeiro, importa-se as bibliotecas necessárias para esse tutorial"
      ]
    },
    {
      "cell_type": "markdown",
      "metadata": {
        "id": "nFjiLFxoyoPE"
      },
      "source": [
        "## Tensores\n",
        "\n",
        "Tensores são a estrutura de dados especializadas para os calculos dos parâmetros desejados dos modelos. Nesta sessão serão descritos como criar os tensores e algumas operações básicas.\n"
      ]
    },
    {
      "cell_type": "code",
      "execution_count": 1,
      "metadata": {
        "id": "KeQMnSzEyoPF"
      },
      "outputs": [],
      "source": [
        "# Bibliotecas necessárias para essa seção\n",
        "import torch\n",
        "import numpy as numpy"
      ]
    },
    {
      "cell_type": "markdown",
      "metadata": {
        "id": "40PfMrRNyoPG"
      },
      "source": [
        "### Inicialização de Tensores"
      ]
    },
    {
      "cell_type": "markdown",
      "metadata": {
        "id": "3irqHRmfyoPG"
      },
      "source": []
    },
    {
      "cell_type": "code",
      "execution_count": 2,
      "metadata": {
        "id": "GNc4d6cfyoPG",
        "colab": {
          "base_uri": "https://localhost:8080/"
        },
        "outputId": "87084005-6d5d-4478-fca4-c68e61735b9a"
      },
      "outputs": [
        {
          "output_type": "stream",
          "name": "stdout",
          "text": [
            "Valores a partir de uma lista: tensor([[1, 2],\n",
            "        [2, 4]])\n",
            "\n",
            "\n",
            "Valores a partir partir de um numpy array: [[1, 2], [2, 4]]\n",
            "\n",
            "\n",
            "Valores unitários a partir de um tensor: tensor([[1, 1],\n",
            "        [1, 1]])\n",
            "\n",
            "\n",
            "Valores aleatórios a partir de um tensor: tensor([[0.9680, 0.3075],\n",
            "        [0.8088, 0.6609]])\n",
            "\n",
            "\n"
          ]
        }
      ],
      "source": [
        "# Inicialização do Tensor a partir de uma lista\n",
        "data = [[1, 2], [2, 4]]\n",
        "x_data = torch.tensor(data)\n",
        "print(f\"Valores a partir de uma lista: {x_data}\", end=\"\\n\\n\\n\")\n",
        "\n",
        "# Inicialização do Tensor a partir de um numpy array\n",
        "np_array = [[1, 2], [2, 4]]\n",
        "x_np = torch.tensor(np_array)\n",
        "print(f\"Valores a partir partir de um numpy array: {np_array}\", end=\"\\n\\n\\n\")\n",
        "\n",
        "# Inicialização do Tensor a partir de outro tensor.\n",
        "# Valores unitários\n",
        "x_ones = torch.ones_like(x_data)\n",
        "print(f\"Valores unitários a partir de um tensor: {x_ones}\", end=\"\\n\\n\\n\")\n",
        "\n",
        "# Valores aleatórios\n",
        "x_rand = torch.rand_like(x_data, dtype=torch.float)\n",
        "print(f\"Valores aleatórios a partir de um tensor: {x_rand}\", end=\"\\n\\n\\n\")\n"
      ]
    },
    {
      "cell_type": "code",
      "execution_count": 3,
      "metadata": {
        "id": "EV_WD0Q0yoPH",
        "colab": {
          "base_uri": "https://localhost:8080/"
        },
        "outputId": "4ad83353-2272-4a71-c60f-333c109f6997"
      },
      "outputs": [
        {
          "output_type": "stream",
          "name": "stdout",
          "text": [
            "Dimensão do Tensor: torch.Size([3, 4])\n",
            "Tipo de dado do Tensor: torch.float32\n",
            "Device em que o Tensor está armazenado: cpu\n"
          ]
        }
      ],
      "source": [
        "# Alguns atributos do tensor\n",
        "tensor = torch.rand(3, 4)\n",
        "\n",
        "print(f\"Dimensão do Tensor: {tensor.shape}\")\n",
        "print(f\"Tipo de dado do Tensor: {tensor.dtype}\")\n",
        "print(f\"Device em que o Tensor está armazenado: {tensor.device}\")"
      ]
    },
    {
      "cell_type": "markdown",
      "metadata": {
        "id": "A1TMyr3QyoPH"
      },
      "source": [
        "### Operações com Tensores"
      ]
    },
    {
      "cell_type": "code",
      "execution_count": 4,
      "metadata": {
        "id": "4N7PHXWiyoPH",
        "colab": {
          "base_uri": "https://localhost:8080/"
        },
        "outputId": "820e4300-1882-4e97-a983-2cf187267b94"
      },
      "outputs": [
        {
          "output_type": "stream",
          "name": "stdout",
          "text": [
            "Primeira linha: tensor([1., 1., 1., 1.])\n",
            "Primeira coluna: tensor([1., 1., 1., 1.])\n",
            "Última coluna: tensor([1., 1., 1., 1.])\n"
          ]
        },
        {
          "output_type": "execute_result",
          "data": {
            "text/plain": [
              "tensor([[1., 0., 1., 1.],\n",
              "        [1., 0., 1., 1.],\n",
              "        [1., 0., 1., 1.],\n",
              "        [1., 0., 1., 1.]])"
            ]
          },
          "metadata": {},
          "execution_count": 4
        }
      ],
      "source": [
        "# Indexing e Slicing:\n",
        "tensor = torch.ones(4, 4)\n",
        "print(f\"Primeira linha: {tensor[0]}\")\n",
        "print(f\"Primeira coluna: {tensor[:, 0]}\")\n",
        "print(f\"Última coluna: {tensor[..., -1]}\")\n",
        "\n",
        "tensor[:, 1] = 0\n",
        "tensor"
      ]
    },
    {
      "cell_type": "code",
      "execution_count": 5,
      "metadata": {
        "id": "H6hjNrWGyoPI",
        "colab": {
          "base_uri": "https://localhost:8080/"
        },
        "outputId": "7930caa9-750c-450f-d2f1-fded1d9f3497"
      },
      "outputs": [
        {
          "output_type": "execute_result",
          "data": {
            "text/plain": [
              "tensor([[1., 0., 1., 1., 1., 0., 1., 1., 1., 0., 1., 1.],\n",
              "        [1., 0., 1., 1., 1., 0., 1., 1., 1., 0., 1., 1.],\n",
              "        [1., 0., 1., 1., 1., 0., 1., 1., 1., 0., 1., 1.],\n",
              "        [1., 0., 1., 1., 1., 0., 1., 1., 1., 0., 1., 1.]])"
            ]
          },
          "metadata": {},
          "execution_count": 5
        }
      ],
      "source": [
        "# Concatenação de Tensores:\n",
        "t1 = torch.cat([tensor, tensor, tensor], dim=1)\n",
        "t1"
      ]
    },
    {
      "cell_type": "code",
      "execution_count": 6,
      "metadata": {
        "id": "HWdDVlWjyoPI",
        "colab": {
          "base_uri": "https://localhost:8080/"
        },
        "outputId": "90976a62-e33f-46bb-9727-6e099d0af730"
      },
      "outputs": [
        {
          "output_type": "stream",
          "name": "stdout",
          "text": [
            "tensor([[0.6868, 0.8389, 0.9742, 0.6449],\n",
            "        [0.7709, 0.7292, 0.2748, 0.6968],\n",
            "        [0.5309, 0.3277, 0.1390, 0.5306]])\n",
            "tensor([[0.6835, 0.0212, 0.8673, 0.7079],\n",
            "        [0.6613, 0.4334, 0.8104, 0.5480],\n",
            "        [0.6663, 0.7882, 0.5322, 0.0750]])\n"
          ]
        }
      ],
      "source": [
        "# Operações aritméticas\n",
        "tensor1 = torch.rand(3, 4)\n",
        "tensor2 = torch.rand_like(tensor1)\n",
        "\n",
        "print(tensor1)\n",
        "print(tensor2)\n"
      ]
    },
    {
      "cell_type": "code",
      "execution_count": 7,
      "metadata": {
        "id": "EQdfOrZByoPI",
        "colab": {
          "base_uri": "https://localhost:8080/"
        },
        "outputId": "5d46368a-dd8b-4b2c-8cb4-fdecaaadf2fa"
      },
      "outputs": [
        {
          "output_type": "stream",
          "name": "stdout",
          "text": [
            "tensor([[1.3703, 0.8601, 1.8415, 1.3528],\n",
            "        [1.4322, 1.1626, 1.0852, 1.2447],\n",
            "        [1.1972, 1.1159, 0.6712, 0.6056]])\n",
            "tensor([[ 0.0034,  0.8177,  0.1068, -0.0631],\n",
            "        [ 0.1095,  0.2958, -0.5356,  0.1488],\n",
            "        [-0.1355, -0.4604, -0.3932,  0.4555]])\n"
          ]
        }
      ],
      "source": [
        "# Soma e Subtração (opera elemento a elemento)\n",
        "sum_tensor = tensor1 + tensor2\n",
        "sub_tensor = tensor1 - tensor2\n",
        "\n",
        "print(sum_tensor)\n",
        "print(sub_tensor)"
      ]
    },
    {
      "cell_type": "code",
      "execution_count": 8,
      "metadata": {
        "id": "r5Q-Lzn4yoPI",
        "colab": {
          "base_uri": "https://localhost:8080/"
        },
        "outputId": "cd001615-2c1d-4285-fe2d-a6fb7122f0a5"
      },
      "outputs": [
        {
          "output_type": "stream",
          "name": "stdout",
          "text": [
            "tensor([[0.4694, 0.0178, 0.8449, 0.4565],\n",
            "        [0.5098, 0.3160, 0.2227, 0.3818],\n",
            "        [0.3537, 0.2583, 0.0740, 0.0398]])\n",
            "tensor([[ 1.0049, 39.5261,  1.1232,  0.9109],\n",
            "        [ 1.1656,  1.6825,  0.3391,  1.2716],\n",
            "        [ 0.7967,  0.4158,  0.2612,  7.0709]])\n"
          ]
        }
      ],
      "source": [
        "# Multiplicação e Divisão (opera elemento a elemento)\n",
        "mul_tensor = tensor1 * tensor2  ## ou torch.mul(tensor1, tensor2)\n",
        "div_tensor = tensor1 / tensor2  ## ou torch.div(tensor1, tensor2)\n",
        "\n",
        "print(mul_tensor)\n",
        "print(div_tensor)"
      ]
    },
    {
      "cell_type": "code",
      "execution_count": 9,
      "metadata": {
        "id": "xByE4M2RyoPI",
        "colab": {
          "base_uri": "https://localhost:8080/"
        },
        "outputId": "5507c7c2-adbb-4abc-cc23-13dda31662c4"
      },
      "outputs": [
        {
          "output_type": "stream",
          "name": "stdout",
          "text": [
            "Forma 1: tensor([[1.7887, 1.9606, 1.6857],\n",
            "        [1.2739, 1.4303, 1.2869],\n",
            "        [0.8660, 0.8965, 0.7259]])\n",
            "Forma 2: tensor([[1.7887, 1.9606, 1.6857],\n",
            "        [1.2739, 1.4303, 1.2869],\n",
            "        [0.8660, 0.8965, 0.7259]])\n"
          ]
        }
      ],
      "source": [
        "# Multiplicação Matricial sobre os tensores\n",
        "mul_mat_tensor1 = tensor1 @ tensor2.T  # Note: tensor2.T significa a transposição da matriz.\n",
        "mul_mat_tensor2 = torch.matmul(tensor1, tensor2.T)\n",
        "\n",
        "print(f\"Forma 1: {mul_mat_tensor1}\")\n",
        "print(f\"Forma 2: {mul_mat_tensor2}\")"
      ]
    },
    {
      "cell_type": "markdown",
      "metadata": {
        "id": "4MAZ-DJhyoPI"
      },
      "source": [
        "## Datasets e Dataloaders\n",
        "\n",
        "Datasets são os conjuntos de dados utilizado para treinamento dos parametros dos modelos. Dataloaders são a estrutura para treinamento dos modelos no qual será feita a separação de dos *minibatchs*, eleatorização dos dados etc."
      ]
    },
    {
      "cell_type": "code",
      "execution_count": 10,
      "metadata": {
        "id": "v7J8dHgPyoPJ"
      },
      "outputs": [],
      "source": [
        "# Bibliotecas necessárias para essa seção\n",
        "import torch\n",
        "from torch.utils.data import Dataset\n",
        "from torchvision import datasets\n",
        "from torchvision.transforms import ToTensor\n",
        "import matplotlib.pyplot as plt"
      ]
    },
    {
      "cell_type": "markdown",
      "metadata": {
        "id": "Fc-rBXniyoPJ"
      },
      "source": [
        "### Dataset\n",
        "\n",
        "Esse exemplo faz o carregamento do dataset implementado na própria framework. Os dados utilizado aqui é o Fashion-MNIST. Outros datasets já implementados podem ser vistas em [Pytorch Dataset](https://pytorch.org/vision/stable/datasets.html)\n"
      ]
    },
    {
      "cell_type": "code",
      "execution_count": 11,
      "metadata": {
        "id": "EcE4lrz5yoPJ",
        "colab": {
          "base_uri": "https://localhost:8080/"
        },
        "outputId": "b560dd1e-5ef1-4153-ff3c-e09625fb7146"
      },
      "outputs": [
        {
          "output_type": "stream",
          "name": "stdout",
          "text": [
            "Downloading http://fashion-mnist.s3-website.eu-central-1.amazonaws.com/train-images-idx3-ubyte.gz\n",
            "Downloading http://fashion-mnist.s3-website.eu-central-1.amazonaws.com/train-images-idx3-ubyte.gz to data/FashionMNIST/raw/train-images-idx3-ubyte.gz\n"
          ]
        },
        {
          "output_type": "stream",
          "name": "stderr",
          "text": [
            "100%|██████████| 26421880/26421880 [00:01<00:00, 14798381.86it/s]\n"
          ]
        },
        {
          "output_type": "stream",
          "name": "stdout",
          "text": [
            "Extracting data/FashionMNIST/raw/train-images-idx3-ubyte.gz to data/FashionMNIST/raw\n",
            "\n",
            "Downloading http://fashion-mnist.s3-website.eu-central-1.amazonaws.com/train-labels-idx1-ubyte.gz\n",
            "Downloading http://fashion-mnist.s3-website.eu-central-1.amazonaws.com/train-labels-idx1-ubyte.gz to data/FashionMNIST/raw/train-labels-idx1-ubyte.gz\n"
          ]
        },
        {
          "output_type": "stream",
          "name": "stderr",
          "text": [
            "100%|██████████| 29515/29515 [00:00<00:00, 271602.70it/s]\n"
          ]
        },
        {
          "output_type": "stream",
          "name": "stdout",
          "text": [
            "Extracting data/FashionMNIST/raw/train-labels-idx1-ubyte.gz to data/FashionMNIST/raw\n",
            "\n",
            "Downloading http://fashion-mnist.s3-website.eu-central-1.amazonaws.com/t10k-images-idx3-ubyte.gz\n",
            "Downloading http://fashion-mnist.s3-website.eu-central-1.amazonaws.com/t10k-images-idx3-ubyte.gz to data/FashionMNIST/raw/t10k-images-idx3-ubyte.gz\n"
          ]
        },
        {
          "output_type": "stream",
          "name": "stderr",
          "text": [
            "100%|██████████| 4422102/4422102 [00:00<00:00, 5005382.51it/s]\n"
          ]
        },
        {
          "output_type": "stream",
          "name": "stdout",
          "text": [
            "Extracting data/FashionMNIST/raw/t10k-images-idx3-ubyte.gz to data/FashionMNIST/raw\n",
            "\n",
            "Downloading http://fashion-mnist.s3-website.eu-central-1.amazonaws.com/t10k-labels-idx1-ubyte.gz\n",
            "Downloading http://fashion-mnist.s3-website.eu-central-1.amazonaws.com/t10k-labels-idx1-ubyte.gz to data/FashionMNIST/raw/t10k-labels-idx1-ubyte.gz\n"
          ]
        },
        {
          "output_type": "stream",
          "name": "stderr",
          "text": [
            "100%|██████████| 5148/5148 [00:00<00:00, 22824817.12it/s]"
          ]
        },
        {
          "output_type": "stream",
          "name": "stdout",
          "text": [
            "Extracting data/FashionMNIST/raw/t10k-labels-idx1-ubyte.gz to data/FashionMNIST/raw\n",
            "\n"
          ]
        },
        {
          "output_type": "stream",
          "name": "stderr",
          "text": [
            "\n"
          ]
        }
      ],
      "source": [
        "# Carregamento dos dados\n",
        "\n",
        "training_data = datasets.FashionMNIST(\n",
        "    root=\"data\",\n",
        "    train=True,\n",
        "    download=True,\n",
        "    transform=ToTensor()\n",
        ")\n",
        "\n",
        "test_data = datasets.FashionMNIST(\n",
        "    root=\"data\",\n",
        "    train=False,\n",
        "    download=True,\n",
        "    transform=ToTensor()\n",
        ")"
      ]
    },
    {
      "cell_type": "code",
      "execution_count": 12,
      "metadata": {
        "id": "L9FZxdrWyoPJ",
        "colab": {
          "base_uri": "https://localhost:8080/",
          "height": 675
        },
        "outputId": "371ab48d-d303-4b8c-c2e5-61087f850583"
      },
      "outputs": [
        {
          "output_type": "display_data",
          "data": {
            "text/plain": [
              "<Figure size 800x800 with 9 Axes>"
            ],
            "image/png": "[encoded data removed]"
          },
          "metadata": {}
        }
      ],
      "source": [
        "# Visualização dos datasets\n",
        "labels_map = {\n",
        "    0: \"T-Shirt\",\n",
        "    1: \"Trouser\",\n",
        "    2: \"Pullover\",\n",
        "    3: \"Dress\",\n",
        "    4: \"Coat\",\n",
        "    5: \"Sandal\",\n",
        "    6: \"Shirt\",\n",
        "    7: \"Sneaker\",\n",
        "    8: \"Bag\",\n",
        "    9: \"Ankle Boot\",\n",
        "}\n",
        "figure = plt.figure(figsize=(8, 8))\n",
        "cols, rows = 3, 3\n",
        "for i in range(1, cols * rows + 1):\n",
        "    sample_idx = torch.randint(len(training_data), size=(1,)).item()\n",
        "    img, label = training_data[sample_idx]\n",
        "    figure.add_subplot(rows, cols, i)\n",
        "    plt.title(labels_map[label])\n",
        "    plt.axis(\"off\")\n",
        "    plt.imshow(img.squeeze(), cmap=\"gray\")\n",
        "plt.show()"
      ]
    },
    {
      "cell_type": "markdown",
      "metadata": {
        "id": "L3dm-dCfyoPJ"
      },
      "source": [
        "### Criando um Dataset customizável a partir de seus arquivos.\n",
        "\n",
        "Deve-se utilizar a class implementada no Pytorch (torch.utils.data.Dataset) e implementar três funções: *__init__*, *__len__* e *__getitem__*"
      ]
    },
    {
      "cell_type": "code",
      "execution_count": 13,
      "metadata": {
        "id": "Qc2-h3RXyoPJ"
      },
      "outputs": [],
      "source": [
        "# Exemplo de um Dataset customizado\n",
        "import os\n",
        "import pandas as pd\n",
        "from torchvision.io import read_image\n",
        "\n",
        "class CustomImageDataset(Dataset):\n",
        "    def __init__(self, annotations_file, img_dir, transform=None, target_transform=None):\n",
        "        self.img_labels = pd.read_csv(annotations_file)\n",
        "        self.img_dir = img_dir\n",
        "        self.transform = transform\n",
        "        self.target_transform = target_transform\n",
        "\n",
        "    def __len__(self):\n",
        "        return len(self.img_labels)\n",
        "\n",
        "    def __getitem__(self, idx):\n",
        "        img_path = os.path.join(self.img_dir, self.img_labels.iloc[idx, 0])\n",
        "        image = read_image(img_path)\n",
        "        label = self.img_labels.iloc[idx, 1]\n",
        "        if self.transform:\n",
        "            image = self.transform(image)\n",
        "        if self.target_transform:\n",
        "            label = self.target_transform(label)\n",
        "        return image, label\n"
      ]
    },
    {
      "cell_type": "markdown",
      "metadata": {
        "id": "rSdnvAQpyoPJ"
      },
      "source": [
        "### Preparação dos dados para treinamento.\n",
        "\n",
        "Após os datasets serem construídos, o próximo passo é montar o *dataloader*. No exemplo a seguir, utiliza-se a classe do Pytorch *torch.utils.data.DataLoader*.\n"
      ]
    },
    {
      "cell_type": "code",
      "execution_count": 14,
      "metadata": {
        "id": "ZLYJ-fCKyoPK"
      },
      "outputs": [],
      "source": [
        "# Construção dos dataloaders.\n",
        "from torch.utils.data import DataLoader\n",
        "\n",
        "train_dataloader = DataLoader(training_data, batch_size=64, shuffle=True)\n",
        "test_dataloader = DataLoader(test_data, batch_size=64, shuffle=True)\n"
      ]
    },
    {
      "cell_type": "markdown",
      "metadata": {
        "id": "pxVFrzxHyoPK"
      },
      "source": [
        "### Iterando sobre o DataLoader."
      ]
    },
    {
      "cell_type": "code",
      "execution_count": 15,
      "metadata": {
        "id": "EnE96VJ1yoPK",
        "colab": {
          "base_uri": "https://localhost:8080/",
          "height": 482
        },
        "outputId": "9fc99334-3792-4827-8545-11b51c57648a"
      },
      "outputs": [
        {
          "output_type": "stream",
          "name": "stdout",
          "text": [
            "Feature batch shape: torch.Size([64, 1, 28, 28])\n",
            "Labels batch shape: torch.Size([64])\n"
          ]
        },
        {
          "output_type": "display_data",
          "data": {
            "text/plain": [
              "<Figure size 640x480 with 1 Axes>"
            ],
            "image/png": "[encoded data removed]"
          },
          "metadata": {}
        },
        {
          "output_type": "stream",
          "name": "stdout",
          "text": [
            "Label: 2\n"
          ]
        }
      ],
      "source": [
        "# Display image and label.\n",
        "train_features, train_labels = next(iter(train_dataloader))\n",
        "print(f\"Feature batch shape: {train_features.size()}\")\n",
        "print(f\"Labels batch shape: {train_labels.size()}\")\n",
        "img = train_features[0].squeeze()\n",
        "label = train_labels[0]\n",
        "plt.imshow(img, cmap=\"gray\")\n",
        "plt.show()\n",
        "print(f\"Label: {label}\")"
      ]
    },
    {
      "cell_type": "markdown",
      "metadata": {
        "id": "MeWxrDF3yoPK"
      },
      "source": [
        "## Construindo a Rede Neural\n",
        "\n",
        "Esta seção sera descrito a construção das redes neurais, como camadas e blocos. Os blocos imploementados podem ser vistos em [torch.nn](https://pytorch.org/docs/stable/nn.html), todas sendo subclasses do [nn.Module](https://pytorch.org/docs/stable/generated/torch.nn.Module.html)"
      ]
    },
    {
      "cell_type": "code",
      "source": [
        "import os\n",
        "import torch\n",
        "from torch import nn\n",
        "from torch.utils.data import DataLoader\n",
        "from torchvision import datasets, transforms"
      ],
      "metadata": {
        "id": "PqW7xkLPzIPE"
      },
      "execution_count": 16,
      "outputs": []
    },
    {
      "cell_type": "markdown",
      "metadata": {
        "id": "Cy9gw_ZNyoPK"
      },
      "source": [
        "### Utilização do dispositivo de treinamento\n",
        "\n",
        "Deve-se utilizar para treinar os modelos *hardwares* que acelerem, como GPU ou MPS, caso ,ão possua, utilize a própria CPU."
      ]
    },
    {
      "cell_type": "code",
      "execution_count": 17,
      "metadata": {
        "id": "OflLRxsvyoPK",
        "colab": {
          "base_uri": "https://localhost:8080/"
        },
        "outputId": "5e339a53-b381-4832-cc29-e349006ec0f3"
      },
      "outputs": [
        {
          "output_type": "stream",
          "name": "stdout",
          "text": [
            "Using cuda device\n"
          ]
        }
      ],
      "source": [
        "# Identificando o dispositivo disponível para treino.\n",
        "device = (\n",
        "    \"cuda\"\n",
        "    if torch.cuda.is_available()\n",
        "    else \"mps\"\n",
        "    if torch.backends.mps.is_available()\n",
        "    else \"cpu\"\n",
        ")\n",
        "print(f\"Using {device} device\")"
      ]
    },
    {
      "cell_type": "markdown",
      "metadata": {
        "id": "4iEUouO8yoPK"
      },
      "source": [
        "### Definição da Classe\n",
        "\n",
        "A classe que será a rede neural proposta deve ser uma subclasse de nn.Module e inicializa-se as camadas da rede a partir da função *__init__*. Após isso, deve ser implementada o método *forward*."
      ]
    },
    {
      "cell_type": "code",
      "execution_count": 18,
      "metadata": {
        "id": "QKYHUt_cyoPK"
      },
      "outputs": [],
      "source": [
        "class NeuralNetwork(nn.Module):\n",
        "    def __init__(self):\n",
        "        super().__init__()\n",
        "        self.flatten = nn.Flatten()\n",
        "        self.linear_relu_stack = nn.Sequential(\n",
        "            nn.Linear(28*28, 512),\n",
        "            nn.ReLU(),\n",
        "            nn.Linear(512, 512),\n",
        "            nn.ReLU(),\n",
        "            nn.Linear(512, 10),\n",
        "        )\n",
        "\n",
        "    def forward(self, x):\n",
        "        x = self.flatten(x)\n",
        "        logits = self.linear_relu_stack(x)\n",
        "        return logits"
      ]
    },
    {
      "cell_type": "code",
      "execution_count": 19,
      "metadata": {
        "id": "VXG6hqBbyoPK",
        "colab": {
          "base_uri": "https://localhost:8080/"
        },
        "outputId": "bd077030-f958-418a-d3c9-69985d500fb0"
      },
      "outputs": [
        {
          "output_type": "stream",
          "name": "stdout",
          "text": [
            "NeuralNetwork(\n",
            "  (flatten): Flatten(start_dim=1, end_dim=-1)\n",
            "  (linear_relu_stack): Sequential(\n",
            "    (0): Linear(in_features=784, out_features=512, bias=True)\n",
            "    (1): ReLU()\n",
            "    (2): Linear(in_features=512, out_features=512, bias=True)\n",
            "    (3): ReLU()\n",
            "    (4): Linear(in_features=512, out_features=10, bias=True)\n",
            "  )\n",
            ")\n"
          ]
        }
      ],
      "source": [
        "# Transferindo a rede neural para o dispositivo disponível.\n",
        "model = NeuralNetwork().to(device)\n",
        "print(model)"
      ]
    },
    {
      "cell_type": "code",
      "execution_count": 20,
      "metadata": {
        "id": "asp4BDoDyoPL",
        "colab": {
          "base_uri": "https://localhost:8080/"
        },
        "outputId": "6129b8a1-ab70-4823-85f5-bd0e5a1653f5"
      },
      "outputs": [
        {
          "output_type": "stream",
          "name": "stdout",
          "text": [
            "Predicted class: tensor([1], device='cuda:0')\n"
          ]
        }
      ],
      "source": [
        "# Exemplo do forward implementado\n",
        "X = torch.rand(1, 28, 28, device=device)\n",
        "logits = model(X)\n",
        "pred_probab = nn.Softmax(dim=1)(logits)\n",
        "y_pred = pred_probab.argmax(1)\n",
        "print(f\"Predicted class: {y_pred}\")"
      ]
    },
    {
      "cell_type": "markdown",
      "metadata": {
        "id": "-Qq-xvMXyoPL"
      },
      "source": [
        "### Camadas do modelo\n",
        "\n",
        "Utilizando uma imagem colorida, com entradas RGB, tem-se que as imagens tem a seguinte dimensão: 3x28x28 (CxHxW), no qual C é o número de canais, H a altura da imagem e W a largura da imagem."
      ]
    },
    {
      "cell_type": "code",
      "execution_count": 21,
      "metadata": {
        "id": "SHC0Pok2yoPL",
        "colab": {
          "base_uri": "https://localhost:8080/"
        },
        "outputId": "93f39fda-0a44-40b6-881c-3e9b9fdfdd0f"
      },
      "outputs": [
        {
          "output_type": "stream",
          "name": "stdout",
          "text": [
            "torch.Size([3, 28, 28])\n"
          ]
        }
      ],
      "source": [
        "# Exemplo de uma imagem com entrada RGB\n",
        "input_image = torch.rand(3,28,28)\n",
        "print(input_image.size())"
      ]
    },
    {
      "cell_type": "code",
      "execution_count": 22,
      "metadata": {
        "id": "daEg_yjMyoPL",
        "colab": {
          "base_uri": "https://localhost:8080/"
        },
        "outputId": "c96e57ce-c54a-4056-80e9-7e8f3d05370a"
      },
      "outputs": [
        {
          "output_type": "stream",
          "name": "stdout",
          "text": [
            "torch.Size([3, 784])\n"
          ]
        }
      ],
      "source": [
        "# Flatten: Converte a imagem 28x28 para um array contínuo de 784 pixels.\n",
        "flatten = nn.Flatten()\n",
        "flat_image = flatten(input_image)\n",
        "print(flat_image.size())"
      ]
    },
    {
      "cell_type": "code",
      "execution_count": 23,
      "metadata": {
        "id": "RLUaNi3byoPL",
        "colab": {
          "base_uri": "https://localhost:8080/"
        },
        "outputId": "dd0fea73-294b-466a-a135-c5e675e8fd96"
      },
      "outputs": [
        {
          "output_type": "stream",
          "name": "stdout",
          "text": [
            "torch.Size([3, 20])\n"
          ]
        }
      ],
      "source": [
        "# nn.Linear é a camada totalmente conectada, no qual aplica a transformação linear, armazenando peso e bias.\n",
        "layer1 = nn.Linear(in_features=28*28, out_features=20)\n",
        "hidden1 = layer1(flat_image)\n",
        "print(hidden1.size())"
      ]
    },
    {
      "cell_type": "code",
      "execution_count": 24,
      "metadata": {
        "id": "Z7UjYKRHyoPL",
        "colab": {
          "base_uri": "https://localhost:8080/"
        },
        "outputId": "67dcfda1-dfb3-44a2-8ab8-e506def2d06a"
      },
      "outputs": [
        {
          "output_type": "stream",
          "name": "stdout",
          "text": [
            "Before ReLU: tensor([[-0.3910,  0.1534,  0.2995, -0.2670,  0.2814, -0.4617, -0.2182,  0.3476,\n",
            "         -0.4691, -0.0671, -0.1756,  0.0242,  0.4003, -0.3971,  0.0713, -0.2193,\n",
            "         -0.2682,  0.0584,  0.0942, -0.3619],\n",
            "        [-0.3675,  0.1281,  0.3511, -0.4193, -0.0061, -0.3911, -0.1022,  0.1861,\n",
            "         -0.0139,  0.1452, -0.2845, -0.0847,  0.3660, -0.2437,  0.0076,  0.2221,\n",
            "         -0.4978,  0.2197,  0.1557, -0.3482],\n",
            "        [-0.1294, -0.0176,  0.5494, -0.3873,  0.0306, -0.1355,  0.1238, -0.0545,\n",
            "         -0.2005, -0.3067, -0.5396,  0.0627, -0.0568, -0.1032, -0.0592, -0.1021,\n",
            "         -0.5452,  0.1496, -0.0717, -0.5000]], grad_fn=<AddmmBackward0>)\n",
            "\n",
            "\n",
            "After ReLU: tensor([[0.0000, 0.1534, 0.2995, 0.0000, 0.2814, 0.0000, 0.0000, 0.3476, 0.0000,\n",
            "         0.0000, 0.0000, 0.0242, 0.4003, 0.0000, 0.0713, 0.0000, 0.0000, 0.0584,\n",
            "         0.0942, 0.0000],\n",
            "        [0.0000, 0.1281, 0.3511, 0.0000, 0.0000, 0.0000, 0.0000, 0.1861, 0.0000,\n",
            "         0.1452, 0.0000, 0.0000, 0.3660, 0.0000, 0.0076, 0.2221, 0.0000, 0.2197,\n",
            "         0.1557, 0.0000],\n",
            "        [0.0000, 0.0000, 0.5494, 0.0000, 0.0306, 0.0000, 0.1238, 0.0000, 0.0000,\n",
            "         0.0000, 0.0000, 0.0627, 0.0000, 0.0000, 0.0000, 0.0000, 0.0000, 0.1496,\n",
            "         0.0000, 0.0000]], grad_fn=<ReluBackward0>)\n"
          ]
        }
      ],
      "source": [
        "# nn.ReLU, aplica a função de ativação ReLU aos valores de saída da rede.\n",
        "print(f\"Before ReLU: {hidden1}\\n\\n\")\n",
        "hidden1 = nn.ReLU()(hidden1)\n",
        "print(f\"After ReLU: {hidden1}\")"
      ]
    },
    {
      "cell_type": "code",
      "execution_count": 25,
      "metadata": {
        "id": "04tbHu4KyoPP"
      },
      "outputs": [],
      "source": [
        "# nn.Sequencial, é o módulo de no qual agrupa todos os módulos de forma sequencial.\n",
        "seq_modules = nn.Sequential(\n",
        "    flatten,\n",
        "    layer1,\n",
        "    nn.ReLU(),\n",
        "    nn.Linear(20, 10)\n",
        ")\n",
        "input_image = torch.rand(3,28,28)\n",
        "logits = seq_modules(input_image)"
      ]
    },
    {
      "cell_type": "code",
      "execution_count": 26,
      "metadata": {
        "id": "lzwsRwkWyoPQ"
      },
      "outputs": [],
      "source": [
        "# Softmax transforma os valores no intervalo (-inf, +inf) para escala [0, 1], representando a probablidade de cada classe e soma igual a 1.\n",
        "softmax = nn.Softmax(dim=1)\n",
        "pred_probab = softmax(logits)"
      ]
    },
    {
      "cell_type": "code",
      "execution_count": 27,
      "metadata": {
        "id": "v7O6ozDoyoPQ",
        "colab": {
          "base_uri": "https://localhost:8080/"
        },
        "outputId": "f39d691b-ee8a-40d4-8a1e-4291bfe02984"
      },
      "outputs": [
        {
          "output_type": "stream",
          "name": "stdout",
          "text": [
            "Model structure: NeuralNetwork(\n",
            "  (flatten): Flatten(start_dim=1, end_dim=-1)\n",
            "  (linear_relu_stack): Sequential(\n",
            "    (0): Linear(in_features=784, out_features=512, bias=True)\n",
            "    (1): ReLU()\n",
            "    (2): Linear(in_features=512, out_features=512, bias=True)\n",
            "    (3): ReLU()\n",
            "    (4): Linear(in_features=512, out_features=10, bias=True)\n",
            "  )\n",
            ")\n",
            "\n",
            "\n",
            "Layer: linear_relu_stack.0.weight | Size: torch.Size([512, 784]) | Values : tensor([[-0.0133,  0.0320, -0.0180,  ..., -0.0283,  0.0078,  0.0199],\n",
            "        [ 0.0076, -0.0140,  0.0136,  ...,  0.0092, -0.0243, -0.0345]],\n",
            "       device='cuda:0', grad_fn=<SliceBackward0>) \n",
            "\n",
            "Layer: linear_relu_stack.0.bias | Size: torch.Size([512]) | Values : tensor([ 0.0215, -0.0100], device='cuda:0', grad_fn=<SliceBackward0>) \n",
            "\n",
            "Layer: linear_relu_stack.2.weight | Size: torch.Size([512, 512]) | Values : tensor([[-0.0397,  0.0095, -0.0202,  ..., -0.0081,  0.0365, -0.0086],\n",
            "        [ 0.0427, -0.0410, -0.0175,  ..., -0.0034, -0.0014, -0.0334]],\n",
            "       device='cuda:0', grad_fn=<SliceBackward0>) \n",
            "\n",
            "Layer: linear_relu_stack.2.bias | Size: torch.Size([512]) | Values : tensor([-0.0419,  0.0196], device='cuda:0', grad_fn=<SliceBackward0>) \n",
            "\n",
            "Layer: linear_relu_stack.4.weight | Size: torch.Size([10, 512]) | Values : tensor([[-4.1422e-02, -8.5063e-05,  1.6757e-02,  ...,  4.4189e-02,\n",
            "         -1.3614e-02, -3.7651e-02],\n",
            "        [ 2.2894e-02, -7.0376e-03,  9.3678e-03,  ..., -2.9822e-02,\n",
            "         -1.0701e-02, -2.0032e-02]], device='cuda:0', grad_fn=<SliceBackward0>) \n",
            "\n",
            "Layer: linear_relu_stack.4.bias | Size: torch.Size([10]) | Values : tensor([-0.0409,  0.0291], device='cuda:0', grad_fn=<SliceBackward0>) \n",
            "\n"
          ]
        }
      ],
      "source": [
        "# Representando os parâmetros dos modelos.\n",
        "print(f\"Model structure: {model}\\n\\n\")\n",
        "\n",
        "for name, param in model.named_parameters():\n",
        "    print(f\"Layer: {name} | Size: {param.size()} | Values : {param[:2]} \\n\")"
      ]
    },
    {
      "cell_type": "markdown",
      "metadata": {
        "id": "d8XeSkUiyoPQ"
      },
      "source": [
        "## Autograd\n",
        "\n",
        "Ao treinar as redes neurais, os algoritmos de retropropagação (bachpropagation) são utilizados para ajustar os parâmetros dos modelos de acordo com os gradientes da função de perda.\n",
        "\n",
        "Para computar os gradientes, o Pytorch possui uma ferramenta chamada torch.autograd, no qual computa os gradientes de qualquer gráfico computacional. O exemplo a seguir mostra a saída dos gradientes."
      ]
    },
    {
      "cell_type": "code",
      "execution_count": 28,
      "metadata": {
        "id": "3iSceGZFyoPQ"
      },
      "outputs": [],
      "source": [
        "import torch\n",
        "\n",
        "x = torch.ones(5)  # Tensor de entrada\n",
        "y = torch.zeros(3)  # Saída esperada\n",
        "w = torch.randn(5, 3, requires_grad=True) # Perceptron com 5 entradas e 3 saídas\n",
        "b = torch.randn(3, requires_grad=True)\n",
        "z = torch.matmul(x, w)+b\n",
        "loss = torch.nn.functional.binary_cross_entropy_with_logits(z, y)"
      ]
    },
    {
      "cell_type": "code",
      "execution_count": 29,
      "metadata": {
        "id": "S7xXJy3nyoPQ",
        "colab": {
          "base_uri": "https://localhost:8080/"
        },
        "outputId": "4e4c422e-e907-4cd5-982f-5b3d2e7c7f0c"
      },
      "outputs": [
        {
          "output_type": "stream",
          "name": "stdout",
          "text": [
            "Gradient function for z = <AddBackward0 object at 0x7a7ddb7d35e0>\n",
            "Gradient function for loss = <BinaryCrossEntropyWithLogitsBackward0 object at 0x7a7ddb7d2650>\n"
          ]
        }
      ],
      "source": [
        "print(f\"Gradient function for z = {z.grad_fn}\")\n",
        "print(f\"Gradient function for loss = {loss.grad_fn}\")"
      ]
    },
    {
      "cell_type": "code",
      "execution_count": 30,
      "metadata": {
        "id": "pdvpWvQbyoPQ",
        "colab": {
          "base_uri": "https://localhost:8080/"
        },
        "outputId": "1fe7d31a-fef9-4201-dc48-fecce3287789"
      },
      "outputs": [
        {
          "output_type": "stream",
          "name": "stdout",
          "text": [
            "tensor([[0.0665, 0.0926, 0.2209],\n",
            "        [0.0665, 0.0926, 0.2209],\n",
            "        [0.0665, 0.0926, 0.2209],\n",
            "        [0.0665, 0.0926, 0.2209],\n",
            "        [0.0665, 0.0926, 0.2209]])\n",
            "tensor([0.0665, 0.0926, 0.2209])\n"
          ]
        }
      ],
      "source": [
        "# Computando os gradientes\n",
        "loss.backward()\n",
        "print(w.grad)\n",
        "print(b.grad)"
      ]
    },
    {
      "cell_type": "markdown",
      "metadata": {
        "id": "g3XfSjJFyoPQ"
      },
      "source": [
        "## Treinamento do modelo\n",
        "\n",
        "Entendido os passos descritos anteriormente, agora deve-se treinar o modelo para ajustar os parâmetros e minimizar o erro associado as previsões.\n",
        "\n",
        "Recaptulando os códigos descritos anteriormente, temos:\n",
        "- O dataset que será utilizado, no caso Fashion MNIST;\n",
        "- O dataloader que fará os *minibatchs*\n",
        "- O modelo da rede neural"
      ]
    },
    {
      "cell_type": "code",
      "execution_count": 31,
      "metadata": {
        "id": "2OAM-BSYyoPQ"
      },
      "outputs": [],
      "source": [
        "import torch\n",
        "from torch import nn\n",
        "from torch.utils.data import DataLoader\n",
        "from torchvision import datasets\n",
        "from torchvision.transforms import ToTensor\n",
        "\n",
        "training_data = datasets.FashionMNIST(\n",
        "    root=\"data\",\n",
        "    train=True,\n",
        "    download=True,\n",
        "    transform=ToTensor()\n",
        ")\n",
        "\n",
        "test_data = datasets.FashionMNIST(\n",
        "    root=\"data\",\n",
        "    train=False,\n",
        "    download=True,\n",
        "    transform=ToTensor()\n",
        ")\n",
        "\n",
        "train_dataloader = DataLoader(training_data, batch_size=64)\n",
        "test_dataloader = DataLoader(test_data, batch_size=64)\n",
        "\n",
        "class NeuralNetwork(nn.Module):\n",
        "    def __init__(self):\n",
        "        super().__init__()\n",
        "        self.flatten = nn.Flatten()\n",
        "        self.linear_relu_stack = nn.Sequential(\n",
        "            nn.Linear(28*28, 512),\n",
        "            nn.ReLU(),\n",
        "            nn.Linear(512, 512),\n",
        "            nn.ReLU(),\n",
        "            nn.Linear(512, 10),\n",
        "        )\n",
        "\n",
        "    def forward(self, x):\n",
        "        x = self.flatten(x)\n",
        "        logits = self.linear_relu_stack(x)\n",
        "        return logits\n",
        "\n",
        "model = NeuralNetwork()"
      ]
    },
    {
      "cell_type": "markdown",
      "metadata": {
        "id": "FqbC1e7IyoPR"
      },
      "source": [
        "### Hiperparametros\n",
        "- **Number of Epochs** - Número de vezes que será iterado pelo dataset.\n",
        "- **Batch Size** - Número de dados utilizados em cada propagação da rede neural;\n",
        "- **Learning Rate** - Fator de aprendizado dos parâmetros dos modelos"
      ]
    },
    {
      "cell_type": "code",
      "execution_count": 32,
      "metadata": {
        "id": "TSqa5tQfyoPR"
      },
      "outputs": [],
      "source": [
        "learning_rate = 1e-3\n",
        "batch_size = 64\n",
        "epochs = 5"
      ]
    },
    {
      "cell_type": "markdown",
      "metadata": {
        "id": "idW8dRYMyoPR"
      },
      "source": [
        "### Treinamento\n",
        "\n",
        "Itera sobre os dados para convergir os parâmetros do modelo."
      ]
    },
    {
      "cell_type": "code",
      "execution_count": 33,
      "metadata": {
        "id": "jrY03wXCyoPR"
      },
      "outputs": [],
      "source": [
        "def train_loop(dataloader, model, loss_fn, optimizer):\n",
        "    size = len(dataloader.dataset)\n",
        "    # Define o modelo para o modo de treinamento.\n",
        "    model.train()\n",
        "    for batch, (X, y) in enumerate(dataloader):\n",
        "        # Computa as previsões e a perda\n",
        "        pred = model(X)\n",
        "        loss = loss_fn(pred, y)\n",
        "\n",
        "        # Backpropagation\n",
        "        loss.backward()\n",
        "        optimizer.step()\n",
        "        optimizer.zero_grad()\n",
        "\n",
        "        if batch % 100 == 0:\n",
        "            loss, current = loss.item(), (batch + 1) * len(X)\n",
        "            print(f\"loss: {loss:>7f}  [{current:>5d}/{size:>5d}]\")\n"
      ]
    },
    {
      "cell_type": "markdown",
      "metadata": {
        "id": "wmvsimZryoPR"
      },
      "source": [
        "### Validação/Teste\n",
        "\n",
        "Itera sobre o dataset para avaliar o desempenho do modelo."
      ]
    },
    {
      "cell_type": "code",
      "execution_count": 34,
      "metadata": {
        "id": "SHkyDD_gyoPR"
      },
      "outputs": [],
      "source": [
        "def test_loop(dataloader, model, loss_fn):\n",
        "    # Define o modelo para o modo de avaliação.\n",
        "    model.eval()\n",
        "    size = len(dataloader.dataset)\n",
        "    num_batches = len(dataloader)\n",
        "    test_loss, correct = 0, 0\n",
        "\n",
        "    # Evaluating the model with torch.no_grad() ensures that no gradients are computed during test mode\n",
        "    # also serves to reduce unnecessary gradient computations and memory usage for tensors with requires_grad=True\n",
        "    with torch.no_grad():\n",
        "        for X, y in dataloader:\n",
        "            pred = model(X)\n",
        "            test_loss += loss_fn(pred, y).item()\n",
        "            correct += (pred.argmax(1) == y).type(torch.float).sum().item()\n",
        "\n",
        "    test_loss /= num_batches\n",
        "    correct /= size\n",
        "    print(f\"Test Error: \\n Accuracy: {(100*correct):>0.1f}%, Avg loss: {test_loss:>8f} \\n\")"
      ]
    },
    {
      "cell_type": "markdown",
      "metadata": {
        "id": "DKvN6AqxyoPR"
      },
      "source": [
        "### Função de Perda\n",
        "\n",
        "Função definida para minimizar e, assim, avaliar o desempenho do modelo."
      ]
    },
    {
      "cell_type": "code",
      "execution_count": 35,
      "metadata": {
        "id": "5Ojg2IbVyoPS"
      },
      "outputs": [],
      "source": [
        "# Função escolhida: CrossEntropy\n",
        "loss_fn = nn.CrossEntropyLoss()"
      ]
    },
    {
      "cell_type": "markdown",
      "metadata": {
        "id": "masw9eemyoPS"
      },
      "source": [
        "### Otimizadores\n",
        "\n",
        "Processo de ajuste do modelo para reduzir o erro para cada passo do treino."
      ]
    },
    {
      "cell_type": "code",
      "execution_count": 36,
      "metadata": {
        "id": "ODN6qcR8yoPS"
      },
      "outputs": [],
      "source": [
        "optimizer = torch.optim.SGD(model.parameters(), lr=learning_rate)"
      ]
    },
    {
      "cell_type": "markdown",
      "metadata": {
        "id": "Ha0MG9LHyoPS"
      },
      "source": [
        "### Treinamento\n",
        "\n",
        "Agrupando todos os passos, temos:"
      ]
    },
    {
      "cell_type": "code",
      "execution_count": 37,
      "metadata": {
        "id": "-GQUEAd6yoPS",
        "colab": {
          "base_uri": "https://localhost:8080/"
        },
        "outputId": "abe1ed40-cbb9-449f-e9e8-4f2b67681fd4"
      },
      "outputs": [
        {
          "output_type": "stream",
          "name": "stdout",
          "text": [
            "Epoch 1\n",
            "-------------------------------\n",
            "loss: 2.303193  [   64/60000]\n",
            "loss: 2.289031  [ 6464/60000]\n",
            "loss: 2.264884  [12864/60000]\n",
            "loss: 2.260382  [19264/60000]\n",
            "loss: 2.241906  [25664/60000]\n",
            "loss: 2.219818  [32064/60000]\n",
            "loss: 2.220059  [38464/60000]\n",
            "loss: 2.188154  [44864/60000]\n",
            "loss: 2.192688  [51264/60000]\n",
            "loss: 2.155976  [57664/60000]\n",
            "Test Error: \n",
            " Accuracy: 47.0%, Avg loss: 2.149746 \n",
            "\n",
            "Epoch 2\n",
            "-------------------------------\n",
            "loss: 2.165938  [   64/60000]\n",
            "loss: 2.151415  [ 6464/60000]\n",
            "loss: 2.090774  [12864/60000]\n",
            "loss: 2.110286  [19264/60000]\n",
            "loss: 2.057341  [25664/60000]\n",
            "loss: 2.000840  [32064/60000]\n",
            "loss: 2.025168  [38464/60000]\n",
            "loss: 1.946951  [44864/60000]\n",
            "loss: 1.968002  [51264/60000]\n",
            "loss: 1.889362  [57664/60000]\n",
            "Test Error: \n",
            " Accuracy: 56.6%, Avg loss: 1.882840 \n",
            "\n",
            "Epoch 3\n",
            "-------------------------------\n",
            "loss: 1.925401  [   64/60000]\n",
            "loss: 1.886339  [ 6464/60000]\n",
            "loss: 1.767612  [12864/60000]\n",
            "loss: 1.814586  [19264/60000]\n",
            "loss: 1.705173  [25664/60000]\n",
            "loss: 1.661999  [32064/60000]\n",
            "loss: 1.678652  [38464/60000]\n",
            "loss: 1.585807  [44864/60000]\n",
            "loss: 1.622718  [51264/60000]\n",
            "loss: 1.511004  [57664/60000]\n",
            "Test Error: \n",
            " Accuracy: 59.8%, Avg loss: 1.526939 \n",
            "\n",
            "Epoch 4\n",
            "-------------------------------\n",
            "loss: 1.601745  [   64/60000]\n",
            "loss: 1.559549  [ 6464/60000]\n",
            "loss: 1.410787  [12864/60000]\n",
            "loss: 1.482543  [19264/60000]\n",
            "loss: 1.369678  [25664/60000]\n",
            "loss: 1.365415  [32064/60000]\n",
            "loss: 1.365725  [38464/60000]\n",
            "loss: 1.300976  [44864/60000]\n",
            "loss: 1.339727  [51264/60000]\n",
            "loss: 1.233270  [57664/60000]\n",
            "Test Error: \n",
            " Accuracy: 62.9%, Avg loss: 1.263093 \n",
            "\n",
            "Epoch 5\n",
            "-------------------------------\n",
            "loss: 1.345530  [   64/60000]\n",
            "loss: 1.323770  [ 6464/60000]\n",
            "loss: 1.158136  [12864/60000]\n",
            "loss: 1.262667  [19264/60000]\n",
            "loss: 1.144467  [25664/60000]\n",
            "loss: 1.165327  [32064/60000]\n",
            "loss: 1.169283  [38464/60000]\n",
            "loss: 1.119089  [44864/60000]\n",
            "loss: 1.159064  [51264/60000]\n",
            "loss: 1.071766  [57664/60000]\n",
            "Test Error: \n",
            " Accuracy: 64.9%, Avg loss: 1.097490 \n",
            "\n",
            "Epoch 6\n",
            "-------------------------------\n",
            "loss: 1.172192  [   64/60000]\n",
            "loss: 1.173097  [ 6464/60000]\n",
            "loss: 0.989116  [12864/60000]\n",
            "loss: 1.125698  [19264/60000]\n",
            "loss: 1.003033  [25664/60000]\n",
            "loss: 1.030328  [32064/60000]\n",
            "loss: 1.048841  [38464/60000]\n",
            "loss: 1.003283  [44864/60000]\n",
            "loss: 1.040774  [51264/60000]\n",
            "loss: 0.972463  [57664/60000]\n",
            "Test Error: \n",
            " Accuracy: 66.1%, Avg loss: 0.990724 \n",
            "\n",
            "Epoch 7\n",
            "-------------------------------\n",
            "loss: 1.052743  [   64/60000]\n",
            "loss: 1.076191  [ 6464/60000]\n",
            "loss: 0.873745  [12864/60000]\n",
            "loss: 1.034652  [19264/60000]\n",
            "loss: 0.913132  [25664/60000]\n",
            "loss: 0.935355  [32064/60000]\n",
            "loss: 0.970427  [38464/60000]\n",
            "loss: 0.927914  [44864/60000]\n",
            "loss: 0.958450  [51264/60000]\n",
            "loss: 0.906412  [57664/60000]\n",
            "Test Error: \n",
            " Accuracy: 67.5%, Avg loss: 0.917683 \n",
            "\n",
            "Epoch 8\n",
            "-------------------------------\n",
            "loss: 0.965434  [   64/60000]\n",
            "loss: 1.008956  [ 6464/60000]\n",
            "loss: 0.790852  [12864/60000]\n",
            "loss: 0.969403  [19264/60000]\n",
            "loss: 0.852339  [25664/60000]\n",
            "loss: 0.865211  [32064/60000]\n",
            "loss: 0.915135  [38464/60000]\n",
            "loss: 0.877070  [44864/60000]\n",
            "loss: 0.898578  [51264/60000]\n",
            "loss: 0.858247  [57664/60000]\n",
            "Test Error: \n",
            " Accuracy: 68.6%, Avg loss: 0.864509 \n",
            "\n",
            "Epoch 9\n",
            "-------------------------------\n",
            "loss: 0.897977  [   64/60000]\n",
            "loss: 0.958166  [ 6464/60000]\n",
            "loss: 0.728254  [12864/60000]\n",
            "loss: 0.919644  [19264/60000]\n",
            "loss: 0.808250  [25664/60000]\n",
            "loss: 0.811623  [32064/60000]\n",
            "loss: 0.872916  [38464/60000]\n",
            "loss: 0.841210  [44864/60000]\n",
            "loss: 0.853422  [51264/60000]\n",
            "loss: 0.820796  [57664/60000]\n",
            "Test Error: \n",
            " Accuracy: 69.8%, Avg loss: 0.823740 \n",
            "\n",
            "Epoch 10\n",
            "-------------------------------\n",
            "loss: 0.843780  [   64/60000]\n",
            "loss: 0.916848  [ 6464/60000]\n",
            "loss: 0.679150  [12864/60000]\n",
            "loss: 0.880540  [19264/60000]\n",
            "loss: 0.774371  [25664/60000]\n",
            "loss: 0.769794  [32064/60000]\n",
            "loss: 0.838631  [38464/60000]\n",
            "loss: 0.814610  [44864/60000]\n",
            "loss: 0.818264  [51264/60000]\n",
            "loss: 0.790427  [57664/60000]\n",
            "Test Error: \n",
            " Accuracy: 71.1%, Avg loss: 0.791264 \n",
            "\n",
            "Fim!\n"
          ]
        }
      ],
      "source": [
        "epochs = 10\n",
        "for t in range(epochs):\n",
        "    print(f\"Epoch {t+1}\\n-------------------------------\")\n",
        "    train_loop(train_dataloader, model, loss_fn, optimizer)\n",
        "    test_loop(test_dataloader, model, loss_fn)\n",
        "print(\"Fim!\")"
      ]
    },
    {
      "cell_type": "markdown",
      "metadata": {
        "id": "PSto3oO-yoPS"
      },
      "source": [
        "## Salvar e Carregar os pesos dos modelos\n",
        "\n",
        "Nesta seção será descrita o salvamento de carregamento do modelo desejado."
      ]
    },
    {
      "cell_type": "code",
      "execution_count": 38,
      "metadata": {
        "id": "ED7uPRqwyoPS"
      },
      "outputs": [],
      "source": [
        "import torch\n",
        "import torchvision.models as models"
      ]
    },
    {
      "cell_type": "code",
      "execution_count": 39,
      "metadata": {
        "id": "J6rCGfcpyoPS",
        "colab": {
          "base_uri": "https://localhost:8080/"
        },
        "outputId": "0e8fe665-10b1-4f56-c7c8-04db438b3856"
      },
      "outputs": [
        {
          "output_type": "stream",
          "name": "stderr",
          "text": [
            "Downloading: \"https://download.pytorch.org/models/vgg16-397923af.pth\" to /root/.cache/torch/hub/checkpoints/vgg16-397923af.pth\n",
            "100%|██████████| 528M/528M [00:05<00:00, 97.7MB/s]\n"
          ]
        }
      ],
      "source": [
        "# Carregando pesos pré-treinados:\n",
        "model = models.vgg16(weights='IMAGENET1K_V1')\n",
        "torch.save(model.state_dict(), 'model_weights.pth')  # Salvando o modelo na máquina"
      ]
    },
    {
      "cell_type": "code",
      "execution_count": 40,
      "metadata": {
        "id": "A_-XHpp4yoPS",
        "colab": {
          "base_uri": "https://localhost:8080/"
        },
        "outputId": "e29affd5-7557-4192-e7b6-1b7af50769c5"
      },
      "outputs": [
        {
          "output_type": "execute_result",
          "data": {
            "text/plain": [
              "VGG(\n",
              "  (features): Sequential(\n",
              "    (0): Conv2d(3, 64, kernel_size=(3, 3), stride=(1, 1), padding=(1, 1))\n",
              "    (1): ReLU(inplace=True)\n",
              "    (2): Conv2d(64, 64, kernel_size=(3, 3), stride=(1, 1), padding=(1, 1))\n",
              "    (3): ReLU(inplace=True)\n",
              "    (4): MaxPool2d(kernel_size=2, stride=2, padding=0, dilation=1, ceil_mode=False)\n",
              "    (5): Conv2d(64, 128, kernel_size=(3, 3), stride=(1, 1), padding=(1, 1))\n",
              "    (6): ReLU(inplace=True)\n",
              "    (7): Conv2d(128, 128, kernel_size=(3, 3), stride=(1, 1), padding=(1, 1))\n",
              "    (8): ReLU(inplace=True)\n",
              "    (9): MaxPool2d(kernel_size=2, stride=2, padding=0, dilation=1, ceil_mode=False)\n",
              "    (10): Conv2d(128, 256, kernel_size=(3, 3), stride=(1, 1), padding=(1, 1))\n",
              "    (11): ReLU(inplace=True)\n",
              "    (12): Conv2d(256, 256, kernel_size=(3, 3), stride=(1, 1), padding=(1, 1))\n",
              "    (13): ReLU(inplace=True)\n",
              "    (14): Conv2d(256, 256, kernel_size=(3, 3), stride=(1, 1), padding=(1, 1))\n",
              "    (15): ReLU(inplace=True)\n",
              "    (16): MaxPool2d(kernel_size=2, stride=2, padding=0, dilation=1, ceil_mode=False)\n",
              "    (17): Conv2d(256, 512, kernel_size=(3, 3), stride=(1, 1), padding=(1, 1))\n",
              "    (18): ReLU(inplace=True)\n",
              "    (19): Conv2d(512, 512, kernel_size=(3, 3), stride=(1, 1), padding=(1, 1))\n",
              "    (20): ReLU(inplace=True)\n",
              "    (21): Conv2d(512, 512, kernel_size=(3, 3), stride=(1, 1), padding=(1, 1))\n",
              "    (22): ReLU(inplace=True)\n",
              "    (23): MaxPool2d(kernel_size=2, stride=2, padding=0, dilation=1, ceil_mode=False)\n",
              "    (24): Conv2d(512, 512, kernel_size=(3, 3), stride=(1, 1), padding=(1, 1))\n",
              "    (25): ReLU(inplace=True)\n",
              "    (26): Conv2d(512, 512, kernel_size=(3, 3), stride=(1, 1), padding=(1, 1))\n",
              "    (27): ReLU(inplace=True)\n",
              "    (28): Conv2d(512, 512, kernel_size=(3, 3), stride=(1, 1), padding=(1, 1))\n",
              "    (29): ReLU(inplace=True)\n",
              "    (30): MaxPool2d(kernel_size=2, stride=2, padding=0, dilation=1, ceil_mode=False)\n",
              "  )\n",
              "  (avgpool): AdaptiveAvgPool2d(output_size=(7, 7))\n",
              "  (classifier): Sequential(\n",
              "    (0): Linear(in_features=25088, out_features=4096, bias=True)\n",
              "    (1): ReLU(inplace=True)\n",
              "    (2): Dropout(p=0.5, inplace=False)\n",
              "    (3): Linear(in_features=4096, out_features=4096, bias=True)\n",
              "    (4): ReLU(inplace=True)\n",
              "    (5): Dropout(p=0.5, inplace=False)\n",
              "    (6): Linear(in_features=4096, out_features=1000, bias=True)\n",
              "  )\n",
              ")"
            ]
          },
          "metadata": {},
          "execution_count": 40
        }
      ],
      "source": [
        "# Carregando modelo salvo na maquina:\n",
        "model = models.vgg16() # Pesos não especificado\n",
        "model.load_state_dict(torch.load('model_weights.pth'))\n",
        "model.eval()"
      ]
    }
  ],
  "metadata": {
    "kernelspec": {
      "display_name": "Python 3",
      "name": "python3"
    },
    "language_info": {
      "codemirror_mode": {
        "name": "ipython",
        "version": 3
      },
      "file_extension": ".py",
      "mimetype": "text/x-python",
      "name": "python",
      "nbconvert_exporter": "python",
      "pygments_lexer": "ipython3",
      "version": "3.11.4"
    },
    "colab": {
      "provenance": [],
      "gpuType": "T4",
      "include_colab_link": true
    },
    "accelerator": "GPU"
  },
  "nbformat": 4,
  "nbformat_minor": 0
}