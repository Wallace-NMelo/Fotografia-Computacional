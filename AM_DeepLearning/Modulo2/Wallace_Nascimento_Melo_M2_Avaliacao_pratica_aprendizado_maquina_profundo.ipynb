{
  "nbformat": 4,
  "nbformat_minor": 0,
  "metadata": {
    "colab": {
      "provenance": [],
      "gpuType": "T4",
      "include_colab_link": true
    },
    "kernelspec": {
      "name": "python3",
      "display_name": "Python 3"
    },
    "language_info": {
      "name": "python"
    },
    "accelerator": "GPU"
  },
  "cells": [
    {
      "cell_type": "markdown",
      "metadata": {
        "id": "view-in-github",
        "colab_type": "text"
      },
      "source": [
        "<a href=\"https://colab.research.google.com/github/Wallace-NMelo/Fotografia-Computacional/blob/main/AM_DeepLearning/Modulo2/Wallace_Nascimento_Melo_M2_Avaliacao_pratica_aprendizado_maquina_profundo.ipynb\" target=\"_parent\"><img src=\"https://colab.research.google.com/assets/colab-badge.svg\" alt=\"Open In Colab\"/></a>"
      ]
    },
    {
      "cell_type": "markdown",
      "source": [
        "``lux.ai - Curso de Fotografia Computacional - Aprendizado de Máquina e Profundo``\n",
        "\n",
        "## Classificação com MLP em PyTorch\n",
        "\n",
        "Já utilizamos uma rede MLP para fazer a classificação de dígitos com sklearn. Também realizamos testes com nosso modelo em dados advindos do PyTorch.\n",
        "Nesse colab vamos utilizar uma MLP novamente para realizar a classficação de roupas utilizando o PyTorch para treinamento no dataset FashionMNIST.\n",
        "\n",
        "```OBS: Quando pedido, realize a operação na célula correspondente atribuindo o resultado na variável indicada. Não altere os nomes das variáveis utilizadas. Você pode utilizar celular adicionais para realizar testes, utilizando variaveis auxiliares para visualizar resultados intermediários.```"
      ],
      "metadata": {
        "id": "paOJvOeUK_A-"
      }
    },
    {
      "cell_type": "markdown",
      "source": [
        "### 01 - Imports"
      ],
      "metadata": {
        "id": "vxfSn59JLzst"
      }
    },
    {
      "cell_type": "code",
      "execution_count": 59,
      "metadata": {
        "id": "yLc-DYnNKsR9"
      },
      "outputs": [],
      "source": [
        "%%capture\n",
        "!pip install torchsummary\n",
        "\n",
        "# modelagem e dados\n",
        "import torch\n",
        "from torchvision import transforms, datasets\n",
        "from torch import nn, optim\n",
        "from torch.utils import data\n",
        "\n",
        "\n",
        "# avaliação de modelos\n",
        "from sklearn.metrics import confusion_matrix, ConfusionMatrixDisplay\n",
        "from sklearn.metrics import classification_report\n",
        "\n",
        "# plotting e visualização\n",
        "from torchsummary import summary\n",
        "import matplotlib.pyplot as plt\n",
        "import seaborn as sns\n",
        "sns.set()\n",
        "\n",
        "DEVICE = \"cuda\" if torch.cuda.is_available() else \"cpu\""
      ]
    },
    {
      "cell_type": "code",
      "source": [
        "DEVICE"
      ],
      "metadata": {
        "colab": {
          "base_uri": "https://localhost:8080/",
          "height": 35
        },
        "id": "Eu-WrGNnGMoA",
        "outputId": "a7fa51b7-9f64-4cde-b528-a6ff5312ec16"
      },
      "execution_count": 61,
      "outputs": [
        {
          "output_type": "execute_result",
          "data": {
            "text/plain": [
              "'cuda'"
            ],
            "application/vnd.google.colaboratory.intrinsic+json": {
              "type": "string"
            }
          },
          "metadata": {},
          "execution_count": 61
        }
      ]
    },
    {
      "cell_type": "markdown",
      "source": [
        "### 02 - Datasets e Dataloaders\n",
        "\n",
        "Utilizaremos o FashionMNIST, que é composto por 70000 imagens no formato 28x28 pixels caracterizando um problema de classificação de imagens em preto e branco de diferentes roupas e calçados."
      ],
      "metadata": {
        "id": "7q_knNo6MC0k"
      }
    },
    {
      "cell_type": "code",
      "source": [
        "print(datasets.FashionMNIST.__doc__)"
      ],
      "metadata": {
        "id": "3pwEvpKVL_UE",
        "colab": {
          "base_uri": "https://localhost:8080/"
        },
        "outputId": "1f903e90-78cd-4c08-e8e3-dd9f712f757c"
      },
      "execution_count": 60,
      "outputs": [
        {
          "output_type": "stream",
          "name": "stdout",
          "text": [
            "`Fashion-MNIST <https://github.com/zalandoresearch/fashion-mnist>`_ Dataset.\n",
            "\n",
            "    Args:\n",
            "        root (string): Root directory of dataset where ``FashionMNIST/raw/train-images-idx3-ubyte``\n",
            "            and  ``FashionMNIST/raw/t10k-images-idx3-ubyte`` exist.\n",
            "        train (bool, optional): If True, creates dataset from ``train-images-idx3-ubyte``,\n",
            "            otherwise from ``t10k-images-idx3-ubyte``.\n",
            "        download (bool, optional): If True, downloads the dataset from the internet and\n",
            "            puts it in root directory. If dataset is already downloaded, it is not\n",
            "            downloaded again.\n",
            "        transform (callable, optional): A function/transform that  takes in an PIL image\n",
            "            and returns a transformed version. E.g, ``transforms.RandomCrop``\n",
            "        target_transform (callable, optional): A function/transform that takes in the\n",
            "            target and transforms it.\n",
            "    \n"
          ]
        }
      ]
    },
    {
      "cell_type": "markdown",
      "source": [
        "Q1 - O FashionMNIST possui apenas um partição de treino e uma de teste.\n",
        " - Utilize o padrão do train_ds para gerar o test_ds\n",
        " - Divida o train_ds gerando um valid_ds com 15% dos dados (utilize o data.random_split)\n",
        "\n",
        " Refs:\n",
        "\n",
        " Dataloaders e datasets: https://pytorch.org/tutorials/beginner/basics/data_tutorial.html\n"
      ],
      "metadata": {
        "id": "XPwBGCJ0Mp_e"
      }
    },
    {
      "cell_type": "code",
      "source": [
        "transform = transforms.ToTensor()\n",
        "\n",
        "# Defina a proporção de divisão entre treinamento, validação e teste\n",
        "\n",
        "train_ratio = 0.75\n",
        "val_ratio = 0.15\n",
        "test_ratio = 0.1\n",
        "\n",
        "fashion_mnist_ds = datasets.FashionMNIST(\n",
        "    root = \".\",\n",
        "    train = True,\n",
        "    download = True,\n",
        "    transform = transform\n",
        ")\n",
        "\n",
        "# Tamanho dos patchs dos dados\n",
        "train_size = int(train_ratio * len(fashion_mnist_ds))\n",
        "test_size = int(test_ratio * len(fashion_mnist_ds))\n",
        "val_size = len(fashion_mnist_ds) - train_size - test_size\n",
        "\n",
        "\n",
        "\n",
        "# Separação dos patchs\n",
        "train_ds, valid_ds, test_ds = data.random_split(fashion_mnist_ds, [train_size, val_size, test_size])\n"
      ],
      "metadata": {
        "id": "3huxwoczMSDJ"
      },
      "execution_count": 62,
      "outputs": []
    },
    {
      "cell_type": "code",
      "source": [
        "train_ds.dataset.classes\n",
        "\n"
      ],
      "metadata": {
        "id": "-piYkdbePcmB",
        "outputId": "d8b5916b-a6c6-47bc-ae9b-5e27efdd2a62",
        "colab": {
          "base_uri": "https://localhost:8080/"
        }
      },
      "execution_count": 63,
      "outputs": [
        {
          "output_type": "execute_result",
          "data": {
            "text/plain": [
              "['T-shirt/top',\n",
              " 'Trouser',\n",
              " 'Pullover',\n",
              " 'Dress',\n",
              " 'Coat',\n",
              " 'Sandal',\n",
              " 'Shirt',\n",
              " 'Sneaker',\n",
              " 'Bag',\n",
              " 'Ankle boot']"
            ]
          },
          "metadata": {},
          "execution_count": 63
        }
      ]
    },
    {
      "cell_type": "markdown",
      "source": [
        "from torch.utils.data import DataLoader\n",
        "Q2 - Crie os dataloaders para o conjunto de validação, treino e teste.\n",
        "Utilize os batchs de treino, validação e teste como 128.\n",
        "Defina o num_workers como 2 e mantenha o shuffle e pin_memory habilitado (True)."
      ],
      "metadata": {
        "id": "UHLa5ILZM41z"
      }
    },
    {
      "cell_type": "code",
      "source": [
        "from torch.utils.data import DataLoader\n",
        "\n",
        "\n",
        "train_dl = DataLoader(train_ds, batch_size=64, shuffle=True)\n",
        "val_dl = DataLoader(valid_ds, batch_size=64, shuffle=False)\n",
        "test_dl = DataLoader(test_ds, batch_size=64, shuffle=False)"
      ],
      "metadata": {
        "id": "gKWVvsGbMUnp"
      },
      "execution_count": 64,
      "outputs": []
    },
    {
      "cell_type": "markdown",
      "source": [
        "### 03 - Visualizando dados\n",
        "\n",
        "Vamos visualizar alguns exemplos da base de dados carregada"
      ],
      "metadata": {
        "id": "CSftXXBCNxHY"
      }
    },
    {
      "cell_type": "code",
      "source": [
        "samples, targets = next(iter(test_dl))\n",
        "print(samples.shape, targets.shape)"
      ],
      "metadata": {
        "id": "kwktGnsrN4Ks",
        "colab": {
          "base_uri": "https://localhost:8080/"
        },
        "outputId": "dbf8bb55-cf71-4d5e-b384-8c6ee78e6cc6"
      },
      "execution_count": 65,
      "outputs": [
        {
          "output_type": "stream",
          "name": "stdout",
          "text": [
            "torch.Size([64, 1, 28, 28]) torch.Size([64])\n"
          ]
        }
      ]
    },
    {
      "cell_type": "code",
      "source": [
        "w = 5\n",
        "fig, ax = plt.subplots(w, w, figsize=(7, 9))\n",
        "for i in range(w):\n",
        "  for j in range(w):\n",
        "    ax[i][j].imshow(samples[i * w + j].permute(1, 2, 0), cmap=\"gray\", interpolation=\"None\")\n",
        "    label = targets[i * w + j].item()\n",
        "    ax[i][j].set_title(test_ds.dataset.classes[int(label)])\n",
        "    ax[i][j].set_xticks([])\n",
        "    ax[i][j].set_yticks([])"
      ],
      "metadata": {
        "id": "tuBGkF2fOLL2",
        "colab": {
          "base_uri": "https://localhost:8080/",
          "height": 726
        },
        "outputId": "c71b23e3-12df-4b04-ab6e-aa44e8fa4c27"
      },
      "execution_count": 66,
      "outputs": [
        {
          "output_type": "display_data",
          "data": {
            "text/plain": [
              "<Figure size 700x900 with 25 Axes>"
            ],
            "image/png": "[encoded data removed]"
          },
          "metadata": {}
        }
      ]
    },
    {
      "cell_type": "markdown",
      "source": [
        "### 04 - Criação do modelo\n",
        "\n",
        "Q3 - Agora iremos criar o modelo com PyTorch.\n",
        "\n",
        "Crie a classe MyMLP que herda de nn.Module.\n",
        "A sua classe deve conter em sequência:\n",
        "- 01 - Uma camada Linear de dimensão (in=n, out=256) (nn.Linear)\n",
        "- 02 - Ativação ReLU (nn.ReLU)\n",
        "- 03 - Uma camada Linear de dimensão (in=256, out=o)\n",
        "\n",
        "** Lembrando que n é a dimensão da entrada 28x28 (para a MLP precisamos redimensionar a entrada para um vetor unidimensional, dica: utilize a função nn.Flatten() antes de passar pela camada Linear).\n",
        "\"o\" deve ser o numero de classes que queremos classificar (10).\n",
        "Defina o modelo de tal forma que possamos instancia-lo como MyMLP(n, o).\n",
        "\n",
        "** Note que todo modelo do PyTorch deve conter o método `__init__` onde criamos as camadas e o `forward` onde realizamos a inferência.\n",
        "\n",
        "** A segunda camada linear não possuirá ativação, vamos retornar o vetor de predição diretamente\n",
        "\n",
        "Seu modelo deve ser parecido com o seguinte resultado:\n",
        "\n",
        "```\n",
        "MyMLP(\n",
        "  (flatten): Flatten(start_dim=1, end_dim=-1)\n",
        "  (mlp): Sequential(\n",
        "    (0): Linear(in_features=784, out_features=256, bias=True)\n",
        "    (1): ReLU()\n",
        "    (2): Linear(in_features=256, out_features=10, bias=True)\n",
        "  )\n",
        ")\n",
        "```\n",
        "\n",
        "Refs:\n",
        "\n",
        "Gerando modelos: https://pytorch.org/tutorials/beginner/introyt/modelsyt_tutorial.html\n",
        "\n",
        "nn.Flatten: https://pytorch.org/docs/stable/generated/torch.nn.Flatten.html\n",
        "\n",
        "nn.Linear: https://pytorch.org/docs/stable/generated/torch.nn.Linear.html\n",
        "\n",
        "nn.ReLU: https://pytorch.org/docs/stable/generated/torch.nn.ReLU.html\n"
      ],
      "metadata": {
        "id": "-WPyI8VSOXhc"
      }
    },
    {
      "cell_type": "code",
      "source": [
        "\n",
        "class MyMLP(nn.Module):\n",
        "    def __init__(self, n, o):\n",
        "        super(MyMLP, self).__init__()\n",
        "\n",
        "        # Camada para redimensionar a entrada para um vetor unidimensional\n",
        "        self.flatten = nn.Flatten(start_dim=1, end_dim=-1)\n",
        "\n",
        "        # Camadas da MLP\n",
        "        self.mlp = nn.Sequential(\n",
        "            nn.Linear(in_features=n, out_features=256, bias=True),\n",
        "            nn.ReLU(),\n",
        "            nn.Linear(in_features=256, out_features=o, bias=True)\n",
        "        )\n",
        "\n",
        "    def forward(self, x):\n",
        "        # Aplica a operação de flatten\n",
        "        x = self.flatten(x)\n",
        "\n",
        "        # Passa pela MLP\n",
        "        x = self.mlp(x)\n",
        "\n",
        "        return x\n",
        "\n",
        "model_classifier = MyMLP(28*28,10).to(DEVICE)\n",
        "print(model_classifier)"
      ],
      "metadata": {
        "id": "AupBM1pTQM8n",
        "colab": {
          "base_uri": "https://localhost:8080/"
        },
        "outputId": "9ab62a5d-0d04-41e5-857c-f7a60ebfb315"
      },
      "execution_count": 67,
      "outputs": [
        {
          "output_type": "stream",
          "name": "stdout",
          "text": [
            "MyMLP(\n",
            "  (flatten): Flatten(start_dim=1, end_dim=-1)\n",
            "  (mlp): Sequential(\n",
            "    (0): Linear(in_features=784, out_features=256, bias=True)\n",
            "    (1): ReLU()\n",
            "    (2): Linear(in_features=256, out_features=10, bias=True)\n",
            "  )\n",
            ")\n"
          ]
        }
      ]
    },
    {
      "cell_type": "code",
      "source": [
        "summary(model_classifier, input_size=(1,28,28), batch_size=128, device=DEVICE)"
      ],
      "metadata": {
        "id": "SXDTBcqIReQZ",
        "colab": {
          "base_uri": "https://localhost:8080/"
        },
        "outputId": "119f0a93-f53d-4f86-abd7-0d845f1ac370"
      },
      "execution_count": 68,
      "outputs": [
        {
          "output_type": "stream",
          "name": "stdout",
          "text": [
            "----------------------------------------------------------------\n",
            "        Layer (type)               Output Shape         Param #\n",
            "================================================================\n",
            "           Flatten-1                 [128, 784]               0\n",
            "            Linear-2                 [128, 256]         200,960\n",
            "              ReLU-3                 [128, 256]               0\n",
            "            Linear-4                  [128, 10]           2,570\n",
            "================================================================\n",
            "Total params: 203,530\n",
            "Trainable params: 203,530\n",
            "Non-trainable params: 0\n",
            "----------------------------------------------------------------\n",
            "Input size (MB): 0.38\n",
            "Forward/backward pass size (MB): 1.28\n",
            "Params size (MB): 0.78\n",
            "Estimated Total Size (MB): 2.43\n",
            "----------------------------------------------------------------\n"
          ]
        }
      ]
    },
    {
      "cell_type": "markdown",
      "source": [
        "### 05 - Loss e Otimização\n",
        "\n",
        "Q4 - Defina a função de loss utilizando o nn.CrossEntropyLoss e, o otimizador como o optim.Adam. Utilize no Adam os parametros do seu modelo (model) e learning rate = 1E-4\n",
        "\n",
        "Refs:\n",
        "\n",
        "Cross Entropy: https://pytorch.org/docs/stable/generated/torch.nn.CrossEntropyLoss.html\n",
        "\n",
        "Optimizers: https://pytorch.org/docs/stable/optim.html"
      ],
      "metadata": {
        "id": "ec0YtPljSmOP"
      }
    },
    {
      "cell_type": "code",
      "source": [
        "loss_fn   = nn.CrossEntropyLoss()\n",
        "LEARNING_RATE = 1e-4\n",
        "optimizer = optim.Adam(params=model_classifier.parameters(), lr=LEARNING_RATE)"
      ],
      "metadata": {
        "id": "MBdj_absS22d"
      },
      "execution_count": 69,
      "outputs": []
    },
    {
      "cell_type": "markdown",
      "source": [
        "### 06 - Definindo os passos de treinamento e validação\n",
        "\n",
        "Q5 - Complete a função train_step e valid_step para que possamos realizar a otimização e avaliação do modelo.\n",
        "- Lembre de setar o modelo para cada passo de forma correta (e.g., train e eval).\n",
        "- Os exemplos e as labels devem estar no mesmo DEVICE que o modelo"
      ],
      "metadata": {
        "id": "BYjndye0TA5y"
      }
    },
    {
      "cell_type": "code",
      "source": [
        "class AverageMeter:\n",
        "    \"\"\"Computes and stores the average and current value\"\"\"\n",
        "    # fonte: https://kaiyangzhou.github.io/deep-person-reid/_modules/torchreid/utils/avgmeter.html#AverageMeter\n",
        "    def __init__(self):\n",
        "        self.reset()\n",
        "\n",
        "    def reset(self):\n",
        "        self.avg = 0\n",
        "        self.sum = 0\n",
        "        self.count = 0\n",
        "\n",
        "    def update(self, val, n=1):\n",
        "        self.sum += val * n\n",
        "        self.count += n\n",
        "        self.avg = self.sum / self.count"
      ],
      "metadata": {
        "id": "Uerf846YTL_N"
      },
      "execution_count": 70,
      "outputs": []
    },
    {
      "cell_type": "code",
      "source": [
        "def train_step(model, train_dl, loss_fn, optimizer, device):\n",
        "\n",
        "  # ative o modelo com o modo de treino\n",
        "  model.train()\n",
        "\n",
        "  train_loss = AverageMeter()\n",
        "  for train_instances, instance_labels in train_dl:\n",
        "\n",
        "    # mova o batch e os rotulos para o mesmo dispositivo do modelo\n",
        "    train_instances = train_instances.to(device)\n",
        "    instance_labels = instance_labels.to(device)\n",
        "\n",
        "    # faça a previsão com o modelo\n",
        "    logits = model_classifier(train_instances)\n",
        "\n",
        "    # lembre de zerar os gradientes para evitar acumular\n",
        "    optimizer.zero_grad()\n",
        "\n",
        "    # calcule o loss\n",
        "    loss = loss_fn(logits, instance_labels)\n",
        "    train_loss.update(loss.item(), len(train_instances))\n",
        "\n",
        "    # agora faça o backpropagation\n",
        "    loss.backward()\n",
        "\n",
        "    # atualize os parâmetros da rede\n",
        "    optimizer.step()\n",
        "\n",
        "  return train_loss.avg"
      ],
      "metadata": {
        "id": "CXlFBvFgTOAD"
      },
      "execution_count": 71,
      "outputs": []
    },
    {
      "cell_type": "code",
      "source": [
        "def validation_step(model, val_dl, loss_fn, device):\n",
        "  # ativar modo de avaliação\n",
        "  ## insira o código aqui\n",
        "\n",
        "  val_loss = AverageMeter()\n",
        "\n",
        "  # desativar computação de gradientes\n",
        "  with torch.no_grad():\n",
        "    for val_instances, instance_labels in val_dl:\n",
        "      # mova o batch e os rotulos para o mesmo dispositivo do modelo\n",
        "      val_instances = val_instances.to(device)\n",
        "      instance_labels = instance_labels.to(device)\n",
        "\n",
        "\n",
        "      # faça previsão com o modelo\n",
        "      ## insira o código aqui\n",
        "      logits = model_classifier(val_instances)\n",
        "      # calcule o loss\n",
        "      loss = loss_fn(logits, instance_labels)\n",
        "\n",
        "      val_loss.update(loss.item(), len(val_instances))\n",
        "\n",
        "  return val_loss.avg"
      ],
      "metadata": {
        "id": "TbQ_um3jUGjq"
      },
      "execution_count": 72,
      "outputs": []
    },
    {
      "cell_type": "markdown",
      "source": [
        "### 07 - Treinamento do modelo\n",
        "\n",
        "Vamos executar o modelo utilizando o train_step e valid_step que definimos anteriormente.\n",
        "\n",
        "Q6 - Complete o código para realizar o treinamento."
      ],
      "metadata": {
        "id": "A0GrUXTyUbnT"
      }
    },
    {
      "cell_type": "code",
      "source": [
        "history = {\n",
        "    \"train_loss\": [],\n",
        "    \"val_loss\": []\n",
        "}\n",
        "\n",
        "EPOCHS = 100 # numero de vezes que iteramos no dataset\n",
        "\n",
        "for epoch in range(EPOCHS):\n",
        "  # complete com train_step e valid_step utilizando os valores definidos anteriormente\n",
        "  train_loss = train_step(model_classifier, train_dl, loss_fn, optimizer, DEVICE)\n",
        "  val_loss   = validation_step(model_classifier, val_dl, loss_fn, DEVICE)\n",
        "\n",
        "  history[\"train_loss\"].append(train_loss)\n",
        "  history[\"val_loss\"].append(val_loss)\n",
        "\n",
        "  print(f\"Época [{epoch + 1}/{EPOCHS}]\")\n",
        "  print(\"-\" * 35)\n",
        "  print(f\"Train loss: {round(train_loss, 6):<7}\")\n",
        "  print(f\"Valid. loss: {round(val_loss, 6):<7}\\n\")"
      ],
      "metadata": {
        "id": "lOLINELkUaoK",
        "colab": {
          "base_uri": "https://localhost:8080/"
        },
        "outputId": "ec29708b-363b-4519-e0d5-26a635e0fcb5"
      },
      "execution_count": 73,
      "outputs": [
        {
          "output_type": "stream",
          "name": "stdout",
          "text": [
            "Época [1/100]\n",
            "-----------------------------------\n",
            "Train loss: 0.896912\n",
            "Valid. loss: 0.599431\n",
            "\n",
            "Época [2/100]\n",
            "-----------------------------------\n",
            "Train loss: 0.55039\n",
            "Valid. loss: 0.512519\n",
            "\n",
            "Época [3/100]\n",
            "-----------------------------------\n",
            "Train loss: 0.489549\n",
            "Valid. loss: 0.468507\n",
            "\n",
            "Época [4/100]\n",
            "-----------------------------------\n",
            "Train loss: 0.45589\n",
            "Valid. loss: 0.44506\n",
            "\n",
            "Época [5/100]\n",
            "-----------------------------------\n",
            "Train loss: 0.435391\n",
            "Valid. loss: 0.427599\n",
            "\n",
            "Época [6/100]\n",
            "-----------------------------------\n",
            "Train loss: 0.419428\n",
            "Valid. loss: 0.424217\n",
            "\n",
            "Época [7/100]\n",
            "-----------------------------------\n",
            "Train loss: 0.405955\n",
            "Valid. loss: 0.411053\n",
            "\n",
            "Época [8/100]\n",
            "-----------------------------------\n",
            "Train loss: 0.396939\n",
            "Valid. loss: 0.399803\n",
            "\n",
            "Época [9/100]\n",
            "-----------------------------------\n",
            "Train loss: 0.38617\n",
            "Valid. loss: 0.389377\n",
            "\n",
            "Época [10/100]\n",
            "-----------------------------------\n",
            "Train loss: 0.377577\n",
            "Valid. loss: 0.381638\n",
            "\n",
            "Época [11/100]\n",
            "-----------------------------------\n",
            "Train loss: 0.370585\n",
            "Valid. loss: 0.38668\n",
            "\n",
            "Época [12/100]\n",
            "-----------------------------------\n",
            "Train loss: 0.363359\n",
            "Valid. loss: 0.37338\n",
            "\n",
            "Época [13/100]\n",
            "-----------------------------------\n",
            "Train loss: 0.357902\n",
            "Valid. loss: 0.372676\n",
            "\n",
            "Época [14/100]\n",
            "-----------------------------------\n",
            "Train loss: 0.351308\n",
            "Valid. loss: 0.362827\n",
            "\n",
            "Época [15/100]\n",
            "-----------------------------------\n",
            "Train loss: 0.345629\n",
            "Valid. loss: 0.361412\n",
            "\n",
            "Época [16/100]\n",
            "-----------------------------------\n",
            "Train loss: 0.340952\n",
            "Valid. loss: 0.357006\n",
            "\n",
            "Época [17/100]\n",
            "-----------------------------------\n",
            "Train loss: 0.3345 \n",
            "Valid. loss: 0.354563\n",
            "\n",
            "Época [18/100]\n",
            "-----------------------------------\n",
            "Train loss: 0.329373\n",
            "Valid. loss: 0.348774\n",
            "\n",
            "Época [19/100]\n",
            "-----------------------------------\n",
            "Train loss: 0.324739\n",
            "Valid. loss: 0.349532\n",
            "\n",
            "Época [20/100]\n",
            "-----------------------------------\n",
            "Train loss: 0.321267\n",
            "Valid. loss: 0.351912\n",
            "\n",
            "Época [21/100]\n",
            "-----------------------------------\n",
            "Train loss: 0.31692\n",
            "Valid. loss: 0.349557\n",
            "\n",
            "Época [22/100]\n",
            "-----------------------------------\n",
            "Train loss: 0.312213\n",
            "Valid. loss: 0.346702\n",
            "\n",
            "Época [23/100]\n",
            "-----------------------------------\n",
            "Train loss: 0.30922\n",
            "Valid. loss: 0.345057\n",
            "\n",
            "Época [24/100]\n",
            "-----------------------------------\n",
            "Train loss: 0.305357\n",
            "Valid. loss: 0.335202\n",
            "\n",
            "Época [25/100]\n",
            "-----------------------------------\n",
            "Train loss: 0.300568\n",
            "Valid. loss: 0.337231\n",
            "\n",
            "Época [26/100]\n",
            "-----------------------------------\n",
            "Train loss: 0.297574\n",
            "Valid. loss: 0.331343\n",
            "\n",
            "Época [27/100]\n",
            "-----------------------------------\n",
            "Train loss: 0.293243\n",
            "Valid. loss: 0.33303\n",
            "\n",
            "Época [28/100]\n",
            "-----------------------------------\n",
            "Train loss: 0.290359\n",
            "Valid. loss: 0.327369\n",
            "\n",
            "Época [29/100]\n",
            "-----------------------------------\n",
            "Train loss: 0.286871\n",
            "Valid. loss: 0.330446\n",
            "\n",
            "Época [30/100]\n",
            "-----------------------------------\n",
            "Train loss: 0.284069\n",
            "Valid. loss: 0.321717\n",
            "\n",
            "Época [31/100]\n",
            "-----------------------------------\n",
            "Train loss: 0.28111\n",
            "Valid. loss: 0.323301\n",
            "\n",
            "Época [32/100]\n",
            "-----------------------------------\n",
            "Train loss: 0.278475\n",
            "Valid. loss: 0.323064\n",
            "\n",
            "Época [33/100]\n",
            "-----------------------------------\n",
            "Train loss: 0.27597\n",
            "Valid. loss: 0.322785\n",
            "\n",
            "Época [34/100]\n",
            "-----------------------------------\n",
            "Train loss: 0.272006\n",
            "Valid. loss: 0.31943\n",
            "\n",
            "Época [35/100]\n",
            "-----------------------------------\n",
            "Train loss: 0.269955\n",
            "Valid. loss: 0.323442\n",
            "\n",
            "Época [36/100]\n",
            "-----------------------------------\n",
            "Train loss: 0.266844\n",
            "Valid. loss: 0.323271\n",
            "\n",
            "Época [37/100]\n",
            "-----------------------------------\n",
            "Train loss: 0.263878\n",
            "Valid. loss: 0.328288\n",
            "\n",
            "Época [38/100]\n",
            "-----------------------------------\n",
            "Train loss: 0.261609\n",
            "Valid. loss: 0.315449\n",
            "\n",
            "Época [39/100]\n",
            "-----------------------------------\n",
            "Train loss: 0.259057\n",
            "Valid. loss: 0.315986\n",
            "\n",
            "Época [40/100]\n",
            "-----------------------------------\n",
            "Train loss: 0.256209\n",
            "Valid. loss: 0.316552\n",
            "\n",
            "Época [41/100]\n",
            "-----------------------------------\n",
            "Train loss: 0.253756\n",
            "Valid. loss: 0.313006\n",
            "\n",
            "Época [42/100]\n",
            "-----------------------------------\n",
            "Train loss: 0.252724\n",
            "Valid. loss: 0.31894\n",
            "\n",
            "Época [43/100]\n",
            "-----------------------------------\n",
            "Train loss: 0.249984\n",
            "Valid. loss: 0.313557\n",
            "\n",
            "Época [44/100]\n",
            "-----------------------------------\n",
            "Train loss: 0.248027\n",
            "Valid. loss: 0.307853\n",
            "\n",
            "Época [45/100]\n",
            "-----------------------------------\n",
            "Train loss: 0.245884\n",
            "Valid. loss: 0.308964\n",
            "\n",
            "Época [46/100]\n",
            "-----------------------------------\n",
            "Train loss: 0.242361\n",
            "Valid. loss: 0.310958\n",
            "\n",
            "Época [47/100]\n",
            "-----------------------------------\n",
            "Train loss: 0.241243\n",
            "Valid. loss: 0.306191\n",
            "\n",
            "Época [48/100]\n",
            "-----------------------------------\n",
            "Train loss: 0.23845\n",
            "Valid. loss: 0.310298\n",
            "\n",
            "Época [49/100]\n",
            "-----------------------------------\n",
            "Train loss: 0.236813\n",
            "Valid. loss: 0.30965\n",
            "\n",
            "Época [50/100]\n",
            "-----------------------------------\n",
            "Train loss: 0.234746\n",
            "Valid. loss: 0.307258\n",
            "\n",
            "Época [51/100]\n",
            "-----------------------------------\n",
            "Train loss: 0.232771\n",
            "Valid. loss: 0.308802\n",
            "\n",
            "Época [52/100]\n",
            "-----------------------------------\n",
            "Train loss: 0.230177\n",
            "Valid. loss: 0.309853\n",
            "\n",
            "Época [53/100]\n",
            "-----------------------------------\n",
            "Train loss: 0.227758\n",
            "Valid. loss: 0.306213\n",
            "\n",
            "Época [54/100]\n",
            "-----------------------------------\n",
            "Train loss: 0.227143\n",
            "Valid. loss: 0.307332\n",
            "\n",
            "Época [55/100]\n",
            "-----------------------------------\n",
            "Train loss: 0.224924\n",
            "Valid. loss: 0.30451\n",
            "\n",
            "Época [56/100]\n",
            "-----------------------------------\n",
            "Train loss: 0.222731\n",
            "Valid. loss: 0.306403\n",
            "\n",
            "Época [57/100]\n",
            "-----------------------------------\n",
            "Train loss: 0.220263\n",
            "Valid. loss: 0.308418\n",
            "\n",
            "Época [58/100]\n",
            "-----------------------------------\n",
            "Train loss: 0.219319\n",
            "Valid. loss: 0.304408\n",
            "\n",
            "Época [59/100]\n",
            "-----------------------------------\n",
            "Train loss: 0.218213\n",
            "Valid. loss: 0.303206\n",
            "\n",
            "Época [60/100]\n",
            "-----------------------------------\n",
            "Train loss: 0.214161\n",
            "Valid. loss: 0.308817\n",
            "\n",
            "Época [61/100]\n",
            "-----------------------------------\n",
            "Train loss: 0.213443\n",
            "Valid. loss: 0.299736\n",
            "\n",
            "Época [62/100]\n",
            "-----------------------------------\n",
            "Train loss: 0.212604\n",
            "Valid. loss: 0.302186\n",
            "\n",
            "Época [63/100]\n",
            "-----------------------------------\n",
            "Train loss: 0.210789\n",
            "Valid. loss: 0.305345\n",
            "\n",
            "Época [64/100]\n",
            "-----------------------------------\n",
            "Train loss: 0.209019\n",
            "Valid. loss: 0.308345\n",
            "\n",
            "Época [65/100]\n",
            "-----------------------------------\n",
            "Train loss: 0.206702\n",
            "Valid. loss: 0.306055\n",
            "\n",
            "Época [66/100]\n",
            "-----------------------------------\n",
            "Train loss: 0.204895\n",
            "Valid. loss: 0.30905\n",
            "\n",
            "Época [67/100]\n",
            "-----------------------------------\n",
            "Train loss: 0.204127\n",
            "Valid. loss: 0.30927\n",
            "\n",
            "Época [68/100]\n",
            "-----------------------------------\n",
            "Train loss: 0.202297\n",
            "Valid. loss: 0.305157\n",
            "\n",
            "Época [69/100]\n",
            "-----------------------------------\n",
            "Train loss: 0.20049\n",
            "Valid. loss: 0.301335\n",
            "\n",
            "Época [70/100]\n",
            "-----------------------------------\n",
            "Train loss: 0.199014\n",
            "Valid. loss: 0.302198\n",
            "\n",
            "Época [71/100]\n",
            "-----------------------------------\n",
            "Train loss: 0.197752\n",
            "Valid. loss: 0.300562\n",
            "\n",
            "Época [72/100]\n",
            "-----------------------------------\n",
            "Train loss: 0.195565\n",
            "Valid. loss: 0.300068\n",
            "\n",
            "Época [73/100]\n",
            "-----------------------------------\n",
            "Train loss: 0.193415\n",
            "Valid. loss: 0.30445\n",
            "\n",
            "Época [74/100]\n",
            "-----------------------------------\n",
            "Train loss: 0.192774\n",
            "Valid. loss: 0.302313\n",
            "\n",
            "Época [75/100]\n",
            "-----------------------------------\n",
            "Train loss: 0.191122\n",
            "Valid. loss: 0.30032\n",
            "\n",
            "Época [76/100]\n",
            "-----------------------------------\n",
            "Train loss: 0.190846\n",
            "Valid. loss: 0.301864\n",
            "\n",
            "Época [77/100]\n",
            "-----------------------------------\n",
            "Train loss: 0.188027\n",
            "Valid. loss: 0.301321\n",
            "\n",
            "Época [78/100]\n",
            "-----------------------------------\n",
            "Train loss: 0.187243\n",
            "Valid. loss: 0.312494\n",
            "\n",
            "Época [79/100]\n",
            "-----------------------------------\n",
            "Train loss: 0.184744\n",
            "Valid. loss: 0.305422\n",
            "\n",
            "Época [80/100]\n",
            "-----------------------------------\n",
            "Train loss: 0.184028\n",
            "Valid. loss: 0.296238\n",
            "\n",
            "Época [81/100]\n",
            "-----------------------------------\n",
            "Train loss: 0.182561\n",
            "Valid. loss: 0.302092\n",
            "\n",
            "Época [82/100]\n",
            "-----------------------------------\n",
            "Train loss: 0.18178\n",
            "Valid. loss: 0.29751\n",
            "\n",
            "Época [83/100]\n",
            "-----------------------------------\n",
            "Train loss: 0.179337\n",
            "Valid. loss: 0.301009\n",
            "\n",
            "Época [84/100]\n",
            "-----------------------------------\n",
            "Train loss: 0.178702\n",
            "Valid. loss: 0.299543\n",
            "\n",
            "Época [85/100]\n",
            "-----------------------------------\n",
            "Train loss: 0.176993\n",
            "Valid. loss: 0.30417\n",
            "\n",
            "Época [86/100]\n",
            "-----------------------------------\n",
            "Train loss: 0.175882\n",
            "Valid. loss: 0.298212\n",
            "\n",
            "Época [87/100]\n",
            "-----------------------------------\n",
            "Train loss: 0.17401\n",
            "Valid. loss: 0.298936\n",
            "\n",
            "Época [88/100]\n",
            "-----------------------------------\n",
            "Train loss: 0.173127\n",
            "Valid. loss: 0.30424\n",
            "\n",
            "Época [89/100]\n",
            "-----------------------------------\n",
            "Train loss: 0.170729\n",
            "Valid. loss: 0.297193\n",
            "\n",
            "Época [90/100]\n",
            "-----------------------------------\n",
            "Train loss: 0.169637\n",
            "Valid. loss: 0.299756\n",
            "\n",
            "Época [91/100]\n",
            "-----------------------------------\n",
            "Train loss: 0.169836\n",
            "Valid. loss: 0.299598\n",
            "\n",
            "Época [92/100]\n",
            "-----------------------------------\n",
            "Train loss: 0.168147\n",
            "Valid. loss: 0.299326\n",
            "\n",
            "Época [93/100]\n",
            "-----------------------------------\n",
            "Train loss: 0.166841\n",
            "Valid. loss: 0.306043\n",
            "\n",
            "Época [94/100]\n",
            "-----------------------------------\n",
            "Train loss: 0.164484\n",
            "Valid. loss: 0.29769\n",
            "\n",
            "Época [95/100]\n",
            "-----------------------------------\n",
            "Train loss: 0.164001\n",
            "Valid. loss: 0.298441\n",
            "\n",
            "Época [96/100]\n",
            "-----------------------------------\n",
            "Train loss: 0.162421\n",
            "Valid. loss: 0.304217\n",
            "\n",
            "Época [97/100]\n",
            "-----------------------------------\n",
            "Train loss: 0.161183\n",
            "Valid. loss: 0.300988\n",
            "\n",
            "Época [98/100]\n",
            "-----------------------------------\n",
            "Train loss: 0.159759\n",
            "Valid. loss: 0.299987\n",
            "\n",
            "Época [99/100]\n",
            "-----------------------------------\n",
            "Train loss: 0.159027\n",
            "Valid. loss: 0.314389\n",
            "\n",
            "Época [100/100]\n",
            "-----------------------------------\n",
            "Train loss: 0.157874\n",
            "Valid. loss: 0.303782\n",
            "\n"
          ]
        }
      ]
    },
    {
      "cell_type": "code",
      "source": [
        "fig = plt.figure()\n",
        "plt.title(\"Cross entropy loss\")\n",
        "plt.plot(history[\"train_loss\"], c=\"g\", label=\"train\")\n",
        "plt.plot(history[\"val_loss\"], c=\"r\", label=\"valid\")\n",
        "plt.legend()"
      ],
      "metadata": {
        "id": "vqu0xz5aVCZQ",
        "colab": {
          "base_uri": "https://localhost:8080/",
          "height": 474
        },
        "outputId": "1f9a72a4-8f15-40d6-cdec-e33cf77e5722"
      },
      "execution_count": 74,
      "outputs": [
        {
          "output_type": "execute_result",
          "data": {
            "text/plain": [
              "<matplotlib.legend.Legend at 0x7cd23c2813c0>"
            ]
          },
          "metadata": {},
          "execution_count": 74
        },
        {
          "output_type": "display_data",
          "data": {
            "text/plain": [
              "<Figure size 640x480 with 1 Axes>"
            ],
            "image/png": "[encoded data removed]"
          },
          "metadata": {}
        }
      ]
    },
    {
      "cell_type": "markdown",
      "source": [
        "### 08 - Teste\n",
        "\n",
        "Q7 - Por fim, vamos avaliar nosso modelo no conjunto de teste\n",
        "\n",
        "- Defina o modelo como avaliação\n",
        "- passe os exemplos para o device em uso\n",
        "- faça a predição com o modelo\n",
        "- obtenha o vetor de probabilidades a partir da saída do modelo (i.e., use o nn.functional.softmax)\n",
        "- obtenha o indice (numero da classe) que contém o valor máximo de probabilidade (use o torch.argmax)"
      ],
      "metadata": {
        "id": "nd8e010lgC2W"
      }
    },
    {
      "cell_type": "code",
      "source": [
        "all_preds = []\n",
        "all_targets = []\n",
        "all_probs = []\n",
        "\n",
        "total_corrects = 0\n",
        "total_n = 0\n",
        "\n",
        "# 1 defina o modelo para avaliação (eval)\n",
        "## insira o código aqui\n",
        "\n",
        "for test_instances, instance_labels in test_dl:\n",
        "\n",
        "    # 2 mova o batch e os rotulos para o mesmo dispositivo do modelo\n",
        "    test_instances = test_instances.to(DEVICE)\n",
        "    instance_labels = instance_labels.to(DEVICE)\n",
        "\n",
        "    with torch.no_grad():\n",
        "        logits = model_classifier(test_instances)\n",
        "\n",
        "    # 4 obtenha o vetor de probabilidades\n",
        "    probabilities = nn.functional.softmax(logits, 1)\n",
        "    all_probs.append(probabilities.cpu())\n",
        "\n",
        "\n",
        "    # 5 obtenha a classe com max prob\n",
        "    preds = torch.argmax(probabilities, 1)\n",
        "    total_corrects += (preds == instance_labels).sum().item()\n",
        "    total_n += len(test_instances)\n",
        "\n",
        "    all_preds.append(preds.unsqueeze(-1))\n",
        "    all_targets.append(instance_labels.unsqueeze(-1))\n",
        "\n",
        "\n",
        "preds = torch.cat(all_preds).squeeze(-1).cpu()\n",
        "targets = torch.cat(all_targets).squeeze(-1).cpu()"
      ],
      "metadata": {
        "id": "JvDXG_36gHPj"
      },
      "execution_count": 75,
      "outputs": []
    },
    {
      "cell_type": "markdown",
      "source": [
        "Vamos visualizar o resultado a partir da matriz de confusão"
      ],
      "metadata": {
        "id": "fa2BZ6XZggRl"
      }
    },
    {
      "cell_type": "code",
      "source": [
        "fig, ax = plt.subplots(1, 1, figsize=(7, 7))\n",
        "fig.suptitle(\"Matriz de confusão\")\n",
        "ax.grid(False)\n",
        "\n",
        "labels = test_ds.dataset.classes\n",
        "\n",
        "cm = confusion_matrix(targets, preds)\n",
        "cm_display = ConfusionMatrixDisplay(cm, display_labels=labels)\n",
        "cm_display.plot(ax=ax, xticks_rotation=35.0)"
      ],
      "metadata": {
        "id": "SqWFCwS2glJq",
        "colab": {
          "base_uri": "https://localhost:8080/",
          "height": 706
        },
        "outputId": "e7bbb815-a95b-4912-e67b-a7ca68ea0272"
      },
      "execution_count": 76,
      "outputs": [
        {
          "output_type": "execute_result",
          "data": {
            "text/plain": [
              "<sklearn.metrics._plot.confusion_matrix.ConfusionMatrixDisplay at 0x7cd23c887dc0>"
            ]
          },
          "metadata": {},
          "execution_count": 76
        },
        {
          "output_type": "display_data",
          "data": {
            "text/plain": [
              "<Figure size 700x700 with 2 Axes>"
            ],
            "image/png": "[encoded data removed]"
          },
          "metadata": {}
        }
      ]
    },
    {
      "cell_type": "code",
      "source": [
        "print(classification_report(targets, preds, target_names=labels, zero_division=0))"
      ],
      "metadata": {
        "id": "tw7VeJhCgqKW",
        "colab": {
          "base_uri": "https://localhost:8080/"
        },
        "outputId": "8b5ebccf-3aa1-43f0-9219-f15fb472ce4f"
      },
      "execution_count": 77,
      "outputs": [
        {
          "output_type": "stream",
          "name": "stdout",
          "text": [
            "              precision    recall  f1-score   support\n",
            "\n",
            " T-shirt/top       0.81      0.87      0.84       587\n",
            "     Trouser       0.99      0.99      0.99       625\n",
            "    Pullover       0.77      0.86      0.81       607\n",
            "       Dress       0.92      0.91      0.92       588\n",
            "        Coat       0.80      0.82      0.81       578\n",
            "      Sandal       0.95      0.97      0.96       582\n",
            "       Shirt       0.82      0.64      0.72       622\n",
            "     Sneaker       0.95      0.96      0.95       588\n",
            "         Bag       0.96      0.96      0.96       594\n",
            "  Ankle boot       0.97      0.95      0.96       629\n",
            "\n",
            "    accuracy                           0.89      6000\n",
            "   macro avg       0.89      0.89      0.89      6000\n",
            "weighted avg       0.89      0.89      0.89      6000\n",
            "\n"
          ]
        }
      ]
    }
  ]
}