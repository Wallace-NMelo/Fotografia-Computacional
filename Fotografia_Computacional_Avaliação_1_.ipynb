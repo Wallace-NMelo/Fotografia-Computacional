{
  "nbformat": 4,
  "nbformat_minor": 0,
  "metadata": {
    "colab": {
      "provenance": [],
      "authorship_tag": "ABX9TyO5Ts7o8jef4gC6q/5YYjJy",
      "include_colab_link": true
    },
    "kernelspec": {
      "name": "python3",
      "display_name": "Python 3"
    },
    "language_info": {
      "name": "python"
    }
  },
  "cells": [
    {
      "cell_type": "markdown",
      "metadata": {
        "id": "view-in-github",
        "colab_type": "text"
      },
      "source": [
        "<a href=\"https://colab.research.google.com/github/Wallace-NMelo/Fotografia-Computacional/blob/main/Fotografia_Computacional_Avalia%C3%A7%C3%A3o_1_.ipynb\" target=\"_parent\"><img src=\"https://colab.research.google.com/assets/colab-badge.svg\" alt=\"Open In Colab\"/></a>"
      ]
    },
    {
      "cell_type": "markdown",
      "source": [
        "## Avaliação 01 da Disciplina de Fotografia Computacional do Curso de Fotografia Computacional"
      ],
      "metadata": {
        "id": "uHnvm9npesjG"
      }
    },
    {
      "cell_type": "markdown",
      "source": [
        "## 1- O processo de conversão de um sinal analógico de imagem para digital envolve, basicamente:\n",
        "\n",
        "- [ ] Tempo de exposição, iluminação e distância focal;\n",
        "- [ ] Lentes, filtros e iluminação da cena;\n",
        "- [ ] Distância focal, tecnologia Bayer/Foveon e amostragem;\n",
        "- [x] Amostragem, quantização e codificação;\n",
        "- [ ] Amostragem e quantização.\n",
        "\n",
        "\n",
        "Justificativa: Definição do processo.\n"
      ],
      "metadata": {
        "id": "sxqN7HpLe0YG"
      }
    },
    {
      "cell_type": "markdown",
      "source": [
        "## 2- Assinale a alternativa verdadeira:\n",
        "\n",
        "- [ ] A tecnologia CMOS é inadequada para dispositivos móveis pelo maior consumo de energia quando comparada à tecnologia CCD;\n",
        "- [ ] Sensores de imagem CCD têm a vantagem de serem mais rápidos que sensores CMOS;\n",
        "- [ ] A tecnologia SCMOS foi precursora e deu origem aos sensores CMOS;\n",
        "- [ ] Sensores CCD têm a desvantagem de apresentar elevado nível de ruído comparados aos de tecnologia CMOS;\n",
        "- [x] A tecnologia CMOS é largamente usada na atualidade.\n",
        "\n",
        "Justificativa: \"Se você é um entusiasta de tecnologia, provavelmente já ouviu falar sobre CMOS. Essa tecnologia é amplamente utilizada em nossos dispositivos eletrônicos, como smartphones, laptops e câmeras digitais.\" [Referência](https://dicionariodopetroleo.com.br/semicondutor-cmos/)\n"
      ],
      "metadata": {
        "id": "nYsIgynsfZLu"
      }
    },
    {
      "cell_type": "markdown",
      "source": [
        "## 3- A subamostragem (ou undersampling) espacial de uma imagem de dimensões MxN, tem como resultado:\n",
        "\n",
        "- [ ] Preservação da qualidade da imagem original, porém diminuindo o espaço de armazenamento ocupado;\n",
        "- [ ] Evidente percepção de perda de informação visual, qualquer que seja a subamostragem realizada;\n",
        "- [ ] Aumento do tempo/latência relativamente à transmissão de imagens (ou frames de vídeos) via internet, por exemplo;\n",
        "- [ ] Redução da quantidade de pixels de uma imagem, eventualmente sem perda visual perceptível de informação;\n",
        "- [x] Diminuição do número de bits usados para quantização dos L possíveis níveis de cinza da imagem monocromática original.\n",
        "\n",
        "\n",
        "Justificativa:\n"
      ],
      "metadata": {
        "id": "lAYmsbLOgg5W"
      }
    },
    {
      "cell_type": "markdown",
      "source": [
        "## 4- O processo de equalização global de uma imagem envolve quais etapas, resumidamente?\n",
        "\n",
        "- [ ] Cálculo de probabilidades dos níveis de cinza (bins) da imagem de entrada, obtenção da distribuição acumulada (CDF), multiplicação do resultado anterior pelo número (L-1) dos níveis de cinza com arredondamento e finalmente o mapeamento dos bins;\n",
        "- [ ] Obtenção da frequência dos níveis de cinza da imagem de entrada, obtenção do histograma da imagem, divisão da frequência dos bins pelas novas dimensões da imagem após equalização e finalmente o mapeamento para cada bin;\n",
        "- [x] Cálculo de probabilidades dos níveis de cinza (bins) da imagem de entrada, multiplicação do resultado anterior pelo número de níveis de cinza (L) da imagem e finalmente o mapeamento dos bins;\n",
        "- [ ] Cálculo da frequência dos níveis de cinza da imagem de entrada normalizada pelo número de pixels da imagem, obtenção do histograma da imagem, multiplicação da normalização do resultado anterior pelo número de níveis de cinza (L) da imagem com arredondamento e finalmente o mapeamento para cada bin;\n",
        "- [ ] Apenas o cálculo do histograma com posterior remapeamento de bins.\n"
      ],
      "metadata": {
        "id": "LNnoAEyghe2B"
      }
    },
    {
      "cell_type": "markdown",
      "source": [
        "## 5- Em termos de realce no domínio espacial, para atenuar simultaneamente a presença de ruído sal e pimenta em uma imagem, qual método traria melhor expectativa de um bom resultado, considerando a liberdade de escolha das dimensões de uma máscara de filtragem?\n",
        "\n",
        "- [ ] Aplicação de um filtro através de médias;\n",
        "- [x] Aplicação de um filtro através de medianas;\n",
        "- [ ] Equalização da imagem;\n",
        "- [ ] Aplicação de um filtro de aguçamento por alto reforço;\n",
        "- [ ] Aplicação do Laplaciano.\n",
        "\n",
        "**Justificativa:**\n",
        "A aplicação de um filtro através de medianas é mais eficaz na atenuação de ruído sal e pimenta, pois substitui cada pixel pela mediana dos valores na vizinhança. Isso ajuda a preservar melhor a qualidade da imagem, especialmente quando comparado a um filtro de médias que pode ser mais sensível a valores extremos.\n"
      ],
      "metadata": {
        "id": "iIy5NliQo3VP"
      }
    },
    {
      "cell_type": "markdown",
      "source": [
        "## 6- Seja f(x,y) uma função que representa as intensidades de pixels de uma imagem sobre as coordenadas (x,y) e S(x,y) representa a saída de um filtro passa baixas aplicado sobre f, ou seja, S(f(x,y)). Para aplicar um filtro de aguçamento por alto reforço, qual das expressões abaixo deveria ser usada, considerando R(x,y) a resposta/resultado que se pretende conseguir desse filtro de aguçamento?\n",
        "\n",
        "- [ ] R(x,y) = (L-1) - f(x,y), com L o número de níveis de cinza;\n",
        "- [ ] R(x,y) = S((L-1) - f(x,y)), com L o número de níveis de cinza;\n",
        "- [x] R(x,y) = (A-1)f(x,y) + f(x,y) - S(x,y), com A>1;\n",
        "- [ ] R(x,y) = f(x,y) + S(x,y);\n",
        "- [ ] R(x,y) = S(x,y).\n",
        "\n",
        "**Justificativa:**\n",
        "A expressão correta para um filtro de aguçamento por alto reforço é R(x,y) = (A-1)f(x,y) + f(x,y) - S(x,y), onde A é um fator de amplificação maior que 1. Isso enfatiza as diferenças entre os pixels originais e os resultantes do filtro passa-baixas, criando um efeito de nitidez na imagem.\n"
      ],
      "metadata": {
        "id": "-E_QZD2LpERC"
      }
    },
    {
      "cell_type": "code",
      "execution_count": null,
      "metadata": {
        "id": "Uu1sLFg0elur"
      },
      "outputs": [],
      "source": []
    }
  ]
}