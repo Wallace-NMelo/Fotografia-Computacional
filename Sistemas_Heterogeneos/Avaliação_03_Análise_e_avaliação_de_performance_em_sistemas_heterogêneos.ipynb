{
  "nbformat": 4,
  "nbformat_minor": 0,
  "metadata": {
    "colab": {
      "provenance": [],
      "gpuType": "T4",
      "include_colab_link": true
    },
    "kernelspec": {
      "name": "python3",
      "display_name": "Python 3"
    },
    "language_info": {
      "name": "python"
    },
    "accelerator": "GPU"
  },
  "cells": [
    {
      "cell_type": "markdown",
      "metadata": {
        "id": "view-in-github",
        "colab_type": "text"
      },
      "source": [
        "<a href=\"https://colab.research.google.com/github/Wallace-NMelo/Fotografia-Computacional/blob/main/Sistemas_Heterogeneos/Avalia%C3%A7%C3%A3o_03_An%C3%A1lise_e_avalia%C3%A7%C3%A3o_de_performance_em_sistemas_heterog%C3%AAneos.ipynb\" target=\"_parent\"><img src=\"https://colab.research.google.com/assets/colab-badge.svg\" alt=\"Open In Colab\"/></a>"
      ]
    },
    {
      "cell_type": "markdown",
      "source": [
        "# **Pre-Setup**"
      ],
      "metadata": {
        "id": "lAmX7w5l_htz"
      }
    },
    {
      "cell_type": "code",
      "execution_count": null,
      "metadata": {
        "colab": {
          "base_uri": "https://localhost:8080/"
        },
        "id": "tDhEM4lX85Qt",
        "outputId": "13660f4f-a04c-4e63-af8b-2e77d150c53e"
      },
      "outputs": [
        {
          "output_type": "stream",
          "name": "stdout",
          "text": [
            "Sun May 19 13:00:33 2024       \n",
            "+---------------------------------------------------------------------------------------+\n",
            "| NVIDIA-SMI 535.104.05             Driver Version: 535.104.05   CUDA Version: 12.2     |\n",
            "|-----------------------------------------+----------------------+----------------------+\n",
            "| GPU  Name                 Persistence-M | Bus-Id        Disp.A | Volatile Uncorr. ECC |\n",
            "| Fan  Temp   Perf          Pwr:Usage/Cap |         Memory-Usage | GPU-Util  Compute M. |\n",
            "|                                         |                      |               MIG M. |\n",
            "|=========================================+======================+======================|\n",
            "|   0  Tesla T4                       Off | 00000000:00:04.0 Off |                    0 |\n",
            "| N/A   46C    P8              10W /  70W |      0MiB / 15360MiB |      0%      Default |\n",
            "|                                         |                      |                  N/A |\n",
            "+-----------------------------------------+----------------------+----------------------+\n",
            "                                                                                         \n",
            "+---------------------------------------------------------------------------------------+\n",
            "| Processes:                                                                            |\n",
            "|  GPU   GI   CI        PID   Type   Process name                            GPU Memory |\n",
            "|        ID   ID                                                             Usage      |\n",
            "|=======================================================================================|\n",
            "|  No running processes found                                                           |\n",
            "+---------------------------------------------------------------------------------------+\n"
          ]
        }
      ],
      "source": [
        "!nvidia-smi"
      ]
    },
    {
      "cell_type": "code",
      "source": [
        "!lscpu"
      ],
      "metadata": {
        "colab": {
          "base_uri": "https://localhost:8080/"
        },
        "id": "PQRunOssF7EP",
        "outputId": "b5bdcdcc-2fef-413f-d847-bb68cf1a69ae"
      },
      "execution_count": null,
      "outputs": [
        {
          "output_type": "stream",
          "name": "stdout",
          "text": [
            "Architecture:             x86_64\n",
            "  CPU op-mode(s):         32-bit, 64-bit\n",
            "  Address sizes:          46 bits physical, 48 bits virtual\n",
            "  Byte Order:             Little Endian\n",
            "CPU(s):                   2\n",
            "  On-line CPU(s) list:    0,1\n",
            "Vendor ID:                GenuineIntel\n",
            "  Model name:             Intel(R) Xeon(R) CPU @ 2.00GHz\n",
            "    CPU family:           6\n",
            "    Model:                85\n",
            "    Thread(s) per core:   2\n",
            "    Core(s) per socket:   1\n",
            "    Socket(s):            1\n",
            "    Stepping:             3\n",
            "    BogoMIPS:             4000.29\n",
            "    Flags:                fpu vme de pse tsc msr pae mce cx8 apic sep mtrr pge mca cmov pat pse36 cl\n",
            "                          flush mmx fxsr sse sse2 ss ht syscall nx pdpe1gb rdtscp lm constant_tsc re\n",
            "                          p_good nopl xtopology nonstop_tsc cpuid tsc_known_freq pni pclmulqdq ssse3\n",
            "                           fma cx16 pcid sse4_1 sse4_2 x2apic movbe popcnt aes xsave avx f16c rdrand\n",
            "                           hypervisor lahf_lm abm 3dnowprefetch invpcid_single ssbd ibrs ibpb stibp \n",
            "                          fsgsbase tsc_adjust bmi1 hle avx2 smep bmi2 erms invpcid rtm mpx avx512f a\n",
            "                          vx512dq rdseed adx smap clflushopt clwb avx512cd avx512bw avx512vl xsaveop\n",
            "                          t xsavec xgetbv1 xsaves arat md_clear arch_capabilities\n",
            "Virtualization features:  \n",
            "  Hypervisor vendor:      KVM\n",
            "  Virtualization type:    full\n",
            "Caches (sum of all):      \n",
            "  L1d:                    32 KiB (1 instance)\n",
            "  L1i:                    32 KiB (1 instance)\n",
            "  L2:                     1 MiB (1 instance)\n",
            "  L3:                     38.5 MiB (1 instance)\n",
            "NUMA:                     \n",
            "  NUMA node(s):           1\n",
            "  NUMA node0 CPU(s):      0,1\n",
            "Vulnerabilities:          \n",
            "  Gather data sampling:   Not affected\n",
            "  Itlb multihit:          Not affected\n",
            "  L1tf:                   Mitigation; PTE Inversion\n",
            "  Mds:                    Vulnerable; SMT Host state unknown\n",
            "  Meltdown:               Vulnerable\n",
            "  Mmio stale data:        Vulnerable\n",
            "  Reg file data sampling: Not affected\n",
            "  Retbleed:               Vulnerable\n",
            "  Spec rstack overflow:   Not affected\n",
            "  Spec store bypass:      Vulnerable\n",
            "  Spectre v1:             Vulnerable: __user pointer sanitization and usercopy barriers only; no swa\n",
            "                          pgs barriers\n",
            "  Spectre v2:             Vulnerable; IBPB: disabled; STIBP: disabled; PBRSB-eIBRS: Not affected; BH\n",
            "                          I: Vulnerable (Syscall hardening enabled)\n",
            "  Srbds:                  Not affected\n",
            "  Tsx async abort:        Vulnerable\n"
          ]
        }
      ]
    },
    {
      "cell_type": "code",
      "source": [
        "!pip install git+https://github.com/andreinechaev/nvcc4jupyter.git\n",
        "\n"
      ],
      "metadata": {
        "colab": {
          "base_uri": "https://localhost:8080/"
        },
        "id": "F5AmjMeN9XKp",
        "outputId": "39f7b554-5729-45eb-8f68-5b382cd73679"
      },
      "execution_count": null,
      "outputs": [
        {
          "output_type": "stream",
          "name": "stdout",
          "text": [
            "Collecting git+https://github.com/andreinechaev/nvcc4jupyter.git\n",
            "  Cloning https://github.com/andreinechaev/nvcc4jupyter.git to /tmp/pip-req-build-88mh461a\n",
            "  Running command git clone --filter=blob:none --quiet https://github.com/andreinechaev/nvcc4jupyter.git /tmp/pip-req-build-88mh461a\n",
            "  Resolved https://github.com/andreinechaev/nvcc4jupyter.git to commit 326b0a57a80c6d0b4bad25ca7adf8138419ef1cb\n",
            "  Installing build dependencies ... \u001b[?25l\u001b[?25hdone\n",
            "  Getting requirements to build wheel ... \u001b[?25l\u001b[?25hdone\n",
            "  Preparing metadata (pyproject.toml) ... \u001b[?25l\u001b[?25hdone\n",
            "Building wheels for collected packages: nvcc4jupyter\n",
            "  Building wheel for nvcc4jupyter (pyproject.toml) ... \u001b[?25l\u001b[?25hdone\n",
            "  Created wheel for nvcc4jupyter: filename=nvcc4jupyter-1.2.1-py3-none-any.whl size=10741 sha256=1c43b610d84440f376c57bb0b3d20f87e2433fdb6f06eb98d5fd7c81c461a971\n",
            "  Stored in directory: /tmp/pip-ephem-wheel-cache-dmv1by8t/wheels/a8/b9/18/23f8ef71ceb0f63297dd1903aedd067e6243a68ea756d6feea\n",
            "Successfully built nvcc4jupyter\n",
            "Installing collected packages: nvcc4jupyter\n",
            "Successfully installed nvcc4jupyter-1.2.1\n"
          ]
        }
      ]
    },
    {
      "cell_type": "code",
      "metadata": {
        "id": "y_ZWVHXlY5cp"
      },
      "source": [
        "!pip install git+https://github.com/lesc-ufv/cad4u.git &> /dev/null\n",
        "!git clone https://github.com/lesc-ufv/cad4u &> /dev/null\n",
        "%reload_ext plugin"
      ],
      "execution_count": null,
      "outputs": []
    },
    {
      "cell_type": "code",
      "source": [
        "%load_ext nvcc4jupyter"
      ],
      "metadata": {
        "colab": {
          "base_uri": "https://localhost:8080/"
        },
        "id": "TXbXEJrl9aGF",
        "outputId": "81e65c71-7ba1-481c-e53f-ebeb37488b43"
      },
      "execution_count": null,
      "outputs": [
        {
          "output_type": "stream",
          "name": "stdout",
          "text": [
            "Detected platform \"Colab\". Running its setup...\n",
            "Source files will be saved in \"/tmp/tmpvgx8qv6j\".\n"
          ]
        }
      ]
    },
    {
      "cell_type": "code",
      "source": [
        "%%cuda\n",
        "#include <iostream>\n",
        "    int\n",
        "    main()\n",
        "{\n",
        "    std::cout << \"C++ test\\n\";\n",
        "    return 0;\n",
        "}"
      ],
      "metadata": {
        "colab": {
          "base_uri": "https://localhost:8080/"
        },
        "id": "X8l_NANC9ckS",
        "outputId": "f2f71c26-941e-4b01-dac5-23d47a6c712d"
      },
      "execution_count": null,
      "outputs": [
        {
          "output_type": "stream",
          "name": "stdout",
          "text": [
            "C++ test\n",
            "\n"
          ]
        }
      ]
    },
    {
      "cell_type": "code",
      "source": [
        "# Download and install CUDA 12.1\n",
        "! set -x \\\n",
        "&& cd $(mktemp -d) \\\n",
        "&& wget https://developer.download.nvidia.com/compute/cuda/12.1.0/local_installers/cuda_12.1.0_530.30.02_linux.run \\\n",
        "&& sudo sh cuda_12.1.0_530.30.02_linux.run --silent --toolkit \\\n",
        "&& rm cuda_12.1.0_530.30.02_linux.run"
      ],
      "metadata": {
        "colab": {
          "base_uri": "https://localhost:8080/"
        },
        "id": "K7frN-7YE16l",
        "outputId": "c1be865f-f43b-45ea-f6a2-80e4778aaa0e"
      },
      "execution_count": null,
      "outputs": [
        {
          "output_type": "stream",
          "name": "stdout",
          "text": [
            "++ mktemp -d\n",
            "+ cd /tmp/tmp.d2JKlzYzzc\n",
            "+ wget https://developer.download.nvidia.com/compute/cuda/12.1.0/local_installers/cuda_12.1.0_530.30.02_linux.run\n",
            "--2024-05-19 13:39:05--  https://developer.download.nvidia.com/compute/cuda/12.1.0/local_installers/cuda_12.1.0_530.30.02_linux.run\n",
            "Resolving developer.download.nvidia.com (developer.download.nvidia.com)... 152.195.19.142\n",
            "Connecting to developer.download.nvidia.com (developer.download.nvidia.com)|152.195.19.142|:443... connected.\n",
            "HTTP request sent, awaiting response... 200 OK\n",
            "Length: 4245586997 (4.0G) [application/octet-stream]\n",
            "Saving to: ‘cuda_12.1.0_530.30.02_linux.run’\n",
            "\n",
            "cuda_12.1.0_530.30. 100%[===================>]   3.95G   136MB/s    in 24s     \n",
            "\n",
            "2024-05-19 13:39:29 (167 MB/s) - ‘cuda_12.1.0_530.30.02_linux.run’ saved [4245586997/4245586997]\n",
            "\n",
            "+ sudo sh cuda_12.1.0_530.30.02_linux.run --silent --toolkit\n",
            "+ rm cuda_12.1.0_530.30.02_linux.run\n"
          ]
        }
      ]
    },
    {
      "cell_type": "markdown",
      "source": [
        "# **Matriz Transposta**\n",
        "\n",
        "O operador de matriz transposta (T) é definido como:\n",
        "\n",
        "Para uma matriz A (m x n), sua transposição T(A) é definida pela matriz At (n x m), onde a diagonal principal de At é a reflexão da diagonal principal de A, e, as linhas e colunas de At correspondem, respectivamente, as colunas e linhas de A.\n",
        "\n"
      ],
      "metadata": {
        "id": "yjgWbhli_-b1"
      }
    },
    {
      "cell_type": "code",
      "source": [
        "!apt install build-essential"
      ],
      "metadata": {
        "colab": {
          "base_uri": "https://localhost:8080/"
        },
        "id": "A7e8SmQe8eAl",
        "outputId": "1d8e80bc-fc93-46f2-80ef-f416b03fa42b"
      },
      "execution_count": null,
      "outputs": [
        {
          "output_type": "stream",
          "name": "stdout",
          "text": [
            "Reading package lists... Done\n",
            "Building dependency tree... Done\n",
            "Reading state information... Done\n",
            "build-essential is already the newest version (12.9ubuntu3).\n",
            "0 upgraded, 0 newly installed, 0 to remove and 45 not upgraded.\n"
          ]
        }
      ]
    },
    {
      "cell_type": "markdown",
      "source": [
        "### Escreva uma função T_seq que realiza a transposição de uma matriz MxN utilizando apenas o host para execução"
      ],
      "metadata": {
        "id": "-RqwTEmZtsAy"
      }
    },
    {
      "cell_type": "code",
      "source": [
        "%%file t_seq.cu\n",
        "\n",
        "#include <stdio.h>\n",
        "#include <stdlib.h>\n",
        "#include <time.h>\n",
        "\n",
        "void transpose(float *A, float *At, int m, int n)\n",
        "{\n",
        "    for(int i = 0; i < n; i++)\n",
        "    {\n",
        "        for(int j = 0; j < m; j++)\n",
        "        {\n",
        "            At[i * m + j] = A[j * n + i];\n",
        "        }\n",
        "    }\n",
        "}\n",
        "\n",
        "int main()\n",
        "{\n",
        "    srand(time(NULL));\n",
        "    int m = 5, n = 10;\n",
        "\n",
        "    float *A = (float *) malloc(m * n * sizeof(float));\n",
        "    float *At = (float *) malloc(n * m * sizeof(float));\n",
        "\n",
        "    for (int i = 0; i < m * n; i++)\n",
        "    {\n",
        "        A[i] = (float) rand() / (float) RAND_MAX;\n",
        "    }\n",
        "\n",
        "    for(int i = 0; i < m; i++)\n",
        "    {\n",
        "        for(int j = 0; j < n; j++)\n",
        "        {\n",
        "            printf(\"%.2f \", A[i * n + j]);\n",
        "        }\n",
        "        printf(\"\\n\");\n",
        "    }\n",
        "\n",
        "    transpose(A, At, m, n);\n",
        "    printf(\"\\n\");\n",
        "\n",
        "    for(int i = 0; i < n; i++)\n",
        "    {\n",
        "        for(int j = 0; j < m; j++)\n",
        "        {\n",
        "            printf(\"%.2f \", At[i * m + j]);\n",
        "        }\n",
        "        printf(\"\\n\");\n",
        "    }\n",
        "\n",
        "    free(A);\n",
        "    free(At);\n",
        "\n",
        "    return 0;\n",
        "}"
      ],
      "metadata": {
        "id": "FPLzqZ8D2Wvy",
        "colab": {
          "base_uri": "https://localhost:8080/"
        },
        "outputId": "a77dc435-9c84-428b-f5aa-60a61644000f"
      },
      "execution_count": null,
      "outputs": [
        {
          "output_type": "stream",
          "name": "stdout",
          "text": [
            "Writing t_seq.cu\n"
          ]
        }
      ]
    },
    {
      "cell_type": "code",
      "source": [
        "!nvcc -o t_seq t_seq.cu"
      ],
      "metadata": {
        "id": "kOlIs-sksMlL"
      },
      "execution_count": null,
      "outputs": []
    },
    {
      "cell_type": "code",
      "source": [
        "%%time\n",
        "\n",
        "!./t_seq"
      ],
      "metadata": {
        "colab": {
          "base_uri": "https://localhost:8080/"
        },
        "id": "kdJ2ZD6LstQ3",
        "outputId": "5f00c207-3d4a-4bd8-c764-814d79e677a5"
      },
      "execution_count": null,
      "outputs": [
        {
          "output_type": "stream",
          "name": "stdout",
          "text": [
            "0.55 0.67 0.81 0.76 0.63 0.43 0.04 0.32 0.33 0.56 \n",
            "0.79 0.43 0.27 0.29 0.94 0.62 0.01 1.00 0.02 0.70 \n",
            "0.49 0.97 0.04 0.64 0.75 0.78 0.59 0.34 0.58 0.74 \n",
            "0.35 0.13 0.41 0.16 0.89 0.04 0.59 0.93 0.36 0.92 \n",
            "0.49 0.14 0.36 0.75 0.43 0.29 0.38 0.44 0.29 0.40 \n",
            "\n",
            "0.55 0.79 0.49 0.35 0.49 \n",
            "0.67 0.43 0.97 0.13 0.14 \n",
            "0.81 0.27 0.04 0.41 0.36 \n",
            "0.76 0.29 0.64 0.16 0.75 \n",
            "0.63 0.94 0.75 0.89 0.43 \n",
            "0.43 0.62 0.78 0.04 0.29 \n",
            "0.04 0.01 0.59 0.59 0.38 \n",
            "0.32 1.00 0.34 0.93 0.44 \n",
            "0.33 0.02 0.58 0.36 0.29 \n",
            "0.56 0.70 0.74 0.92 0.40 \n",
            "CPU times: user 4.33 ms, sys: 1.16 ms, total: 5.5 ms\n",
            "Wall time: 106 ms\n"
          ]
        }
      ]
    },
    {
      "cell_type": "markdown",
      "source": [
        "### Defina o kernel T_gpu que realiza a transposição de matriz (MxN) utilizando o device. Escreva o kernel de forma que o mapeamento de threads seja 1:1 para cada posição da matriz de saída"
      ],
      "metadata": {
        "id": "NMEaUIHm2h1R"
      }
    },
    {
      "cell_type": "code",
      "source": [
        "# %%cuda\n",
        "# %%nvprof\n",
        "%%file t_gpu.cu\n",
        "#include <stdio.h>\n",
        "\n",
        "__global__ void transpose(int *A, int *At, int rows, int cols) {\n",
        "    int x = blockIdx.x * blockDim.x + threadIdx.x;\n",
        "    int y = blockIdx.y * blockDim.y + threadIdx.y;\n",
        "\n",
        "    if (x < cols && y < rows) {\n",
        "        At[x * rows + y] = A[y * cols + x];\n",
        "    }\n",
        "}\n",
        "int main() {\n",
        "    int rows = 10;\n",
        "    int cols = 5;\n",
        "\n",
        "    int *h_input, *h_output;\n",
        "    int *d_input, *d_output;\n",
        "    int size = rows * cols * sizeof(int);\n",
        "\n",
        "    // Allocate memory on host\n",
        "    h_input = (int*)malloc(size);\n",
        "    h_output = (int*)malloc(size);\n",
        "\n",
        "    // Initialize input matrix on host\n",
        "    for (int i = 0; i < rows; i++) {\n",
        "        for (int j = 0; j < cols; j++) {\n",
        "            h_input[i * cols + j] = i * cols + j;\n",
        "        }\n",
        "    }\n",
        "\n",
        "    // Allocate memory on device\n",
        "    cudaMalloc((void**)&d_input, size);\n",
        "    cudaMalloc((void**)&d_output, size);\n",
        "\n",
        "    // Copy input matrix from host to device\n",
        "    cudaMemcpy(d_input, h_input, size, cudaMemcpyHostToDevice);\n",
        "\n",
        "    // Define grid and block dimensions\n",
        "    dim3 blockDim(16, 16);\n",
        "    dim3 gridDim((cols + blockDim.x - 1) / blockDim.x, (rows + blockDim.y - 1) / blockDim.y);\n",
        "\n",
        "    // Call kernel function\n",
        "    transpose<<<gridDim, blockDim>>>(d_input, d_output, rows, cols);\n",
        "\n",
        "    // Copy output matrix from device to host\n",
        "    cudaMemcpy(h_output, d_output, size, cudaMemcpyDeviceToHost);\n",
        "\n",
        "    // Print output matrix\n",
        "    printf(\"Input Matrix:\\n\");\n",
        "    for (int i = 0; i < rows; i++) {\n",
        "        for (int j = 0; j < cols; j++) {\n",
        "            printf(\"%d \", h_input[i * cols + j]);\n",
        "        }\n",
        "        printf(\"\\n\");\n",
        "    }\n",
        "\n",
        "    printf(\"\\nTransposed Matrix:\\n\");\n",
        "    for (int i = 0; i < cols; i++) {\n",
        "        for (int j = 0; j < rows; j++) {\n",
        "            printf(\"%d \", h_output[i * rows + j]);\n",
        "        }\n",
        "        printf(\"\\n\");\n",
        "    }\n",
        "\n",
        "    // Free memory\n",
        "    free(h_input);\n",
        "    free(h_output);\n",
        "    cudaFree(d_input);\n",
        "    cudaFree(d_output);\n",
        "\n",
        "    return 0;\n",
        "}\n"
      ],
      "metadata": {
        "colab": {
          "base_uri": "https://localhost:8080/"
        },
        "id": "KvUrGoFKBa5V",
        "outputId": "54300799-b399-41a6-c5ce-c7e11eb78e7d"
      },
      "execution_count": null,
      "outputs": [
        {
          "output_type": "stream",
          "name": "stdout",
          "text": [
            "Writing t_gpu.cu\n"
          ]
        }
      ]
    },
    {
      "cell_type": "code",
      "source": [
        "!nvcc -o t_gpu t_gpu.cu"
      ],
      "metadata": {
        "id": "UPN7wgZNKGhW"
      },
      "execution_count": null,
      "outputs": []
    },
    {
      "cell_type": "code",
      "source": [
        "!./t_gpu"
      ],
      "metadata": {
        "colab": {
          "base_uri": "https://localhost:8080/"
        },
        "id": "5ZPkFnsb9JYb",
        "outputId": "f9138d28-2165-44aa-f560-a1889900bcf4"
      },
      "execution_count": null,
      "outputs": [
        {
          "output_type": "stream",
          "name": "stdout",
          "text": [
            "Input Matrix:\n",
            "0 1 2 3 4 \n",
            "5 6 7 8 9 \n",
            "10 11 12 13 14 \n",
            "15 16 17 18 19 \n",
            "20 21 22 23 24 \n",
            "25 26 27 28 29 \n",
            "30 31 32 33 34 \n",
            "35 36 37 38 39 \n",
            "40 41 42 43 44 \n",
            "45 46 47 48 49 \n",
            "\n",
            "Transposed Matrix:\n",
            "0 5 10 15 20 25 30 35 40 45 \n",
            "1 6 11 16 21 26 31 36 41 46 \n",
            "2 7 12 17 22 27 32 37 42 47 \n",
            "3 8 13 18 23 28 33 38 43 48 \n",
            "4 9 14 19 24 29 34 39 44 49 \n"
          ]
        }
      ]
    },
    {
      "cell_type": "code",
      "source": [
        "!apt-get install -y nsight-compute-2024.1.1"
      ],
      "metadata": {
        "colab": {
          "base_uri": "https://localhost:8080/"
        },
        "id": "biLEomPU7OAG",
        "outputId": "4fa51ad0-6d81-4d08-ef82-5559f8184a17"
      },
      "execution_count": null,
      "outputs": [
        {
          "output_type": "stream",
          "name": "stdout",
          "text": [
            "Reading package lists... Done\n",
            "Building dependency tree... Done\n",
            "Reading state information... Done\n",
            "The following NEW packages will be installed:\n",
            "  nsight-compute-2024.1.1\n",
            "0 upgraded, 1 newly installed, 0 to remove and 45 not upgraded.\n",
            "Need to get 594 MB of archives.\n",
            "After this operation, 1,427 MB of additional disk space will be used.\n",
            "Get:1 https://developer.download.nvidia.com/compute/cuda/repos/ubuntu2204/x86_64  nsight-compute-2024.1.1 2024.1.1.4-1 [594 MB]\n",
            "Fetched 594 MB in 8s (77.3 MB/s)\n",
            "Selecting previously unselected package nsight-compute-2024.1.1.\n",
            "(Reading database ... 121918 files and directories currently installed.)\n",
            "Preparing to unpack .../nsight-compute-2024.1.1_2024.1.1.4-1_amd64.deb ...\n",
            "Unpacking nsight-compute-2024.1.1 (2024.1.1.4-1) ...\n",
            "Setting up nsight-compute-2024.1.1 (2024.1.1.4-1) ...\n"
          ]
        }
      ]
    },
    {
      "cell_type": "markdown",
      "source": [
        "### Qual o valor da taxa de operações por acesso à memória do kernel T_gpu?\n",
        "\n",
        "### **1.0 Flops/Byte**\n",
        "\n"
      ],
      "metadata": {
        "id": "kQi6Zf3H2kjj"
      }
    },
    {
      "cell_type": "code",
      "source": [
        "!ncu --target-processes all ./t_gpu"
      ],
      "metadata": {
        "colab": {
          "base_uri": "https://localhost:8080/"
        },
        "id": "6W06lvdxCqUY",
        "outputId": "5ffcb1ca-d503-408c-81e0-04698dec9c37"
      },
      "execution_count": null,
      "outputs": [
        {
          "output_type": "stream",
          "name": "stdout",
          "text": [
            "==PROF== Connected to process 22987 (/content/t_gpu)\n",
            "==PROF== Profiling \"transpose\" - 0: 0%....50%....100% - 9 passes\n",
            "Input Matrix:\n",
            "0 1 2 3 4 \n",
            "5 6 7 8 9 \n",
            "10 11 12 13 14 \n",
            "15 16 17 18 19 \n",
            "20 21 22 23 24 \n",
            "25 26 27 28 29 \n",
            "30 31 32 33 34 \n",
            "35 36 37 38 39 \n",
            "40 41 42 43 44 \n",
            "45 46 47 48 49 \n",
            "\n",
            "Transposed Matrix:\n",
            "0 5 10 15 20 25 30 35 40 45 \n",
            "1 6 11 16 21 26 31 36 41 46 \n",
            "2 7 12 17 22 27 32 37 42 47 \n",
            "3 8 13 18 23 28 33 38 43 48 \n",
            "4 9 14 19 24 29 34 39 44 49 \n",
            "==PROF== Disconnected from process 22987\n",
            "[22987] t_gpu@127.0.0.1\n",
            "  transpose(int *, int *, int, int) (1, 1, 1)x(16, 16, 1), Context 1, Stream 7, Device 0, CC 7.5\n",
            "    Section: GPU Speed Of Light Throughput\n",
            "    ----------------------- ------------- ------------\n",
            "    Metric Name               Metric Unit Metric Value\n",
            "    ----------------------- ------------- ------------\n",
            "    DRAM Frequency          cycle/nsecond         4.68\n",
            "    SM Frequency            cycle/usecond       575.59\n",
            "    Elapsed Cycles                  cycle        2,155\n",
            "    Memory Throughput                   %         0.35\n",
            "    DRAM Throughput                     %         0.33\n",
            "    Duration                      usecond         3.74\n",
            "    L1/TEX Cache Throughput             %        18.37\n",
            "    L2 Cache Throughput                 %         0.35\n",
            "    SM Active Cycles                cycle           23\n",
            "    Compute (SM) Throughput             %         0.06\n",
            "    ----------------------- ------------- ------------\n",
            "\n",
            "    OPT   This kernel grid is too small to fill the available resources on this device, resulting in only 0.0 full      \n",
            "          waves across all SMs. Look at Launch Statistics for more details.                                             \n",
            "\n",
            "    Section: Launch Statistics\n",
            "    -------------------------------- --------------- ---------------\n",
            "    Metric Name                          Metric Unit    Metric Value\n",
            "    -------------------------------- --------------- ---------------\n",
            "    Block Size                                                   256\n",
            "    Function Cache Configuration                     CachePreferNone\n",
            "    Grid Size                                                      1\n",
            "    Registers Per Thread             register/thread              16\n",
            "    Shared Memory Configuration Size           Kbyte           32.77\n",
            "    Driver Shared Memory Per Block        byte/block               0\n",
            "    Dynamic Shared Memory Per Block       byte/block               0\n",
            "    Static Shared Memory Per Block        byte/block               0\n",
            "    # SMs                                         SM              40\n",
            "    Threads                                   thread             256\n",
            "    Uses Green Context                                             0\n",
            "    Waves Per SM                                                0.01\n",
            "    -------------------------------- --------------- ---------------\n",
            "\n",
            "    OPT   Est. Speedup: 97.5%                                                                                           \n",
            "          The grid for this launch is configured to execute only 1 blocks, which is less than the GPU's 40              \n",
            "          multiprocessors. This can underutilize some multiprocessors. If you do not intend to execute this kernel      \n",
            "          concurrently with other workloads, consider reducing the block size to have at least one block per            \n",
            "          multiprocessor or increase the size of the grid to fully utilize the available hardware resources. See the    \n",
            "          Hardware Model (https://docs.nvidia.com/nsight-compute/ProfilingGuide/index.html#metrics-hw-model)            \n",
            "          description for more details on launch configurations.                                                        \n",
            "\n",
            "    Section: Occupancy\n",
            "    ------------------------------- ----------- ------------\n",
            "    Metric Name                     Metric Unit Metric Value\n",
            "    ------------------------------- ----------- ------------\n",
            "    Block Limit SM                        block           16\n",
            "    Block Limit Registers                 block           16\n",
            "    Block Limit Shared Mem                block           16\n",
            "    Block Limit Warps                     block            4\n",
            "    Theoretical Active Warps per SM        warp           32\n",
            "    Theoretical Occupancy                     %          100\n",
            "    Achieved Occupancy                        %        22.83\n",
            "    Achieved Active Warps Per SM           warp         7.31\n",
            "    ------------------------------- ----------- ------------\n",
            "\n",
            "    OPT   Est. Local Speedup: 77.17%                                                                                    \n",
            "          The difference between calculated theoretical (100.0%) and measured achieved occupancy (22.8%) can be the     \n",
            "          result of warp scheduling overheads or workload imbalances during the kernel execution. Load imbalances can   \n",
            "          occur between warps within a block as well as across blocks of the same kernel. See the CUDA Best Practices   \n",
            "          Guide (https://docs.nvidia.com/cuda/cuda-c-best-practices-guide/index.html#occupancy) for more details on     \n",
            "          optimizing occupancy.                                                                                         \n",
            "\n",
            "    Section: GPU and Memory Workload Distribution\n",
            "    -------------------------- ----------- ------------\n",
            "    Metric Name                Metric Unit Metric Value\n",
            "    -------------------------- ----------- ------------\n",
            "    Average DRAM Active Cycles       cycle        57.50\n",
            "    Total DRAM Elapsed Cycles        cycle      140,288\n",
            "    Average L1 Active Cycles         cycle           23\n",
            "    Total L1 Elapsed Cycles          cycle       82,696\n",
            "    Average L2 Active Cycles         cycle        73.50\n",
            "    Total L2 Elapsed Cycles          cycle      100,768\n",
            "    Average SM Active Cycles         cycle           23\n",
            "    Total SM Elapsed Cycles          cycle       82,696\n",
            "    Average SMSP Active Cycles       cycle        22.40\n",
            "    Total SMSP Elapsed Cycles        cycle      330,784\n",
            "    -------------------------- ----------- ------------\n",
            "\n"
          ]
        }
      ]
    },
    {
      "cell_type": "code",
      "source": [
        "!nvprof ./t_gpu"
      ],
      "metadata": {
        "colab": {
          "base_uri": "https://localhost:8080/"
        },
        "id": "3CD_kVOnDPjC",
        "outputId": "73455517-e46e-4c3d-c0b4-90c3aadf7b4d"
      },
      "execution_count": null,
      "outputs": [
        {
          "output_type": "stream",
          "name": "stdout",
          "text": [
            "==2952== NVPROF is profiling process 2952, command: ./t_gpu\n",
            "Input Matrix:\n",
            "0 1 2 3 4 \n",
            "5 6 7 8 9 \n",
            "10 11 12 13 14 \n",
            "15 16 17 18 19 \n",
            "20 21 22 23 24 \n",
            "25 26 27 28 29 \n",
            "30 31 32 33 34 \n",
            "35 36 37 38 39 \n",
            "40 41 42 43 44 \n",
            "45 46 47 48 49 \n",
            "\n",
            "Transposed Matrix:\n",
            "0 5 10 15 20 25 30 35 40 45 \n",
            "1 6 11 16 21 26 31 36 41 46 \n",
            "2 7 12 17 22 27 32 37 42 47 \n",
            "3 8 13 18 23 28 33 38 43 48 \n",
            "4 9 14 19 24 29 34 39 44 49 \n",
            "==2952== Profiling application: ./t_gpu\n",
            "==2952== Profiling result:\n",
            "            Type  Time(%)      Time     Calls       Avg       Min       Max  Name\n",
            " GPU activities:   50.00%  3.2960us         1  3.2960us  3.2960us  3.2960us  transpose(int*, int*, int, int)\n",
            "                   32.04%  2.1120us         1  2.1120us  2.1120us  2.1120us  [CUDA memcpy DtoH]\n",
            "                   17.96%  1.1840us         1  1.1840us  1.1840us  1.1840us  [CUDA memcpy HtoD]\n",
            "      API calls:   99.41%  111.05ms         2  55.525ms  12.707us  111.04ms  cudaMalloc\n",
            "                    0.21%  235.75us         1  235.75us  235.75us  235.75us  cudaLaunchKernel\n",
            "                    0.18%  196.58us       114  1.7240us     180ns  72.391us  cuDeviceGetAttribute\n",
            "                    0.12%  139.33us         2  69.664us  13.315us  126.01us  cudaFree\n",
            "                    0.05%  55.837us         2  27.918us  27.132us  28.705us  cudaMemcpy\n",
            "                    0.01%  13.677us         1  13.677us  13.677us  13.677us  cuDeviceGetName\n",
            "                    0.01%  7.6560us         1  7.6560us  7.6560us  7.6560us  cuDeviceGetPCIBusId\n",
            "                    0.01%  5.8470us         1  5.8470us  5.8470us  5.8470us  cuDeviceTotalMem\n",
            "                    0.00%  2.1040us         3     701ns     323ns  1.4100us  cuDeviceGetCount\n",
            "                    0.00%  1.1810us         2     590ns     273ns     908ns  cuDeviceGet\n",
            "                    0.00%     644ns         1     644ns     644ns     644ns  cuModuleGetLoadingMode\n",
            "                    0.00%     385ns         1     385ns     385ns     385ns  cuDeviceGetUuid\n"
          ]
        }
      ]
    },
    {
      "cell_type": "markdown",
      "source": [
        "Execute o profile (visual ou CLI) e obtenha as medidas de execução do kernel (tempo, memória, ocupância)."
      ],
      "metadata": {
        "id": "82UdEyaaL4MC"
      }
    },
    {
      "cell_type": "markdown",
      "source": [
        "### Considerando as otimizações de código que foram vistas na disciplina. Como você melhoraria a execução deste kernel?\n",
        "\n",
        "\n",
        "\n",
        "\n",
        "O código de transposição de matriz pode ser otimizado de várias maneiras para melhorar o desempenho, especialmente em um ambiente CUDA. Aqui estão algumas otimizações que podem ser aplicadas:\n",
        "\n",
        "1. Uso de Memória Compartilhada (Shared Memory):\n",
        "A memória compartilhada é muito mais rápida do que a memória global. Utilizá-la para armazenar blocos de dados que são acessados frequentemente pode reduzir o tempo de acesso à memória global.\n",
        "\n",
        "\n",
        "2. Uso de Barramentos (Thread Synchronization):\n",
        "A sincronização das threads dentro de um bloco garante que todas as operações de leitura e escrita na memória compartilhada sejam concluídas antes de prosseguir.\n"
      ],
      "metadata": {
        "id": "wlLeQNQGMC_n"
      }
    },
    {
      "cell_type": "markdown",
      "source": [
        "###Escreva um kernel T_opt aplicando as melhorias que você sugeriu anteriormente"
      ],
      "metadata": {
        "id": "IcPSPooaFNsc"
      }
    },
    {
      "cell_type": "code",
      "source": [
        "%%file t_opt.cu\n",
        "#include <stdio.h>\n",
        "\n",
        "#define TILE_DIM 16  // Define the size of the tile/block\n",
        "\n",
        "__global__ void transpose_optimized(int *input, int *output, int rows, int cols) {\n",
        "    __shared__ int tile[TILE_DIM][TILE_DIM + 1]; // Avoid bank conflicts\n",
        "\n",
        "    int x = blockIdx.x * TILE_DIM + threadIdx.x;\n",
        "    int y = blockIdx.y * TILE_DIM + threadIdx.y;\n",
        "\n",
        "    if (x < cols && y < rows) {\n",
        "        tile[threadIdx.y][threadIdx.x] = input[y * cols + x];\n",
        "    }\n",
        "    __syncthreads();\n",
        "\n",
        "    x = blockIdx.y * TILE_DIM + threadIdx.x; // Transpose block offset\n",
        "    y = blockIdx.x * TILE_DIM + threadIdx.y;\n",
        "\n",
        "    if (x < rows && y < cols) {\n",
        "        output[y * rows + x] = tile[threadIdx.x][threadIdx.y];\n",
        "    }\n",
        "}\n",
        "\n",
        "int main() {\n",
        "    int rows = 10;\n",
        "    int cols = 5;\n",
        "\n",
        "    int *h_input, *h_output;\n",
        "    int *d_input, *d_output;\n",
        "    int size = rows * cols * sizeof(int);\n",
        "\n",
        "    // Allocate memory on host\n",
        "    h_input = (int*)malloc(size);\n",
        "    h_output = (int*)malloc(size);\n",
        "\n",
        "    // Initialize input matrix on host\n",
        "    for (int i = 0; i < rows; i++) {\n",
        "        for (int j = 0; j < cols; j++) {\n",
        "            h_input[i * cols + j] = i * cols + j;\n",
        "        }\n",
        "    }\n",
        "\n",
        "    // Allocate memory on device\n",
        "    cudaMalloc((void**)&d_input, size);\n",
        "    cudaMalloc((void**)&d_output, size);\n",
        "\n",
        "    // Copy input matrix from host to device\n",
        "    cudaMemcpy(d_input, h_input, size, cudaMemcpyHostToDevice);\n",
        "\n",
        "    // Define grid and block dimensions\n",
        "    dim3 blockDim(TILE_DIM, TILE_DIM);\n",
        "    dim3 gridDim((cols + TILE_DIM - 1) / TILE_DIM, (rows + TILE_DIM - 1) / TILE_DIM);\n",
        "\n",
        "    // Call kernel function\n",
        "    transpose_optimized<<<gridDim, blockDim>>>(d_input, d_output, rows, cols);\n",
        "\n",
        "    // Copy output matrix from device to host\n",
        "    cudaMemcpy(h_output, d_output, size, cudaMemcpyDeviceToHost);\n",
        "\n",
        "    // Print output matrix\n",
        "    printf(\"Input Matrix:\\n\");\n",
        "    for (int i = 0; i < rows; i++) {\n",
        "        for (int j = 0; j < cols; j++) {\n",
        "            printf(\"%d \", h_input[i * cols + j]);\n",
        "        }\n",
        "        printf(\"\\n\");\n",
        "    }\n",
        "\n",
        "    printf(\"\\nTransposed Matrix:\\n\");\n",
        "    for (int i = 0; i < cols; i++) {\n",
        "        for (int j = 0; j < rows; j++) {\n",
        "            printf(\"%d \", h_output[i * rows + j]);\n",
        "        }\n",
        "        printf(\"\\n\");\n",
        "    }\n",
        "\n",
        "    // Free memory\n",
        "    free(h_input);\n",
        "    free(h_output);\n",
        "    cudaFree(d_input);\n",
        "    cudaFree(d_output);\n",
        "\n",
        "    return 0;\n",
        "}\n",
        "\n"
      ],
      "metadata": {
        "colab": {
          "base_uri": "https://localhost:8080/"
        },
        "id": "0wvTYIHz3PxK",
        "outputId": "f78d3f42-4730-4a6e-fa13-4fdd1dda204d"
      },
      "execution_count": null,
      "outputs": [
        {
          "output_type": "stream",
          "name": "stdout",
          "text": [
            "Writing t_opt.cu\n"
          ]
        }
      ]
    },
    {
      "cell_type": "code",
      "source": [
        "!nvcc -o t_opt t_opt.cu"
      ],
      "metadata": {
        "id": "Pvmqw591FJt9"
      },
      "execution_count": null,
      "outputs": []
    },
    {
      "cell_type": "code",
      "source": [
        "!ncu ./t_opt"
      ],
      "metadata": {
        "colab": {
          "base_uri": "https://localhost:8080/"
        },
        "id": "yG5J9eB3Dy9_",
        "outputId": "9d4545a8-adaa-46b0-af62-199580cf94c9"
      },
      "execution_count": null,
      "outputs": [
        {
          "output_type": "stream",
          "name": "stdout",
          "text": [
            "==PROF== Connected to process 10957 (/content/t_opt)\n",
            "==PROF== Profiling \"transpose_optimized\" - 0: 0%....50%....100% - 9 passes\n",
            "Input Matrix:\n",
            "0 1 2 3 4 \n",
            "5 6 7 8 9 \n",
            "10 11 12 13 14 \n",
            "15 16 17 18 19 \n",
            "20 21 22 23 24 \n",
            "25 26 27 28 29 \n",
            "30 31 32 33 34 \n",
            "35 36 37 38 39 \n",
            "40 41 42 43 44 \n",
            "45 46 47 48 49 \n",
            "\n",
            "Transposed Matrix:\n",
            "0 5 10 15 20 25 30 35 40 45 \n",
            "1 6 11 16 21 26 31 36 41 46 \n",
            "2 7 12 17 22 27 32 37 42 47 \n",
            "3 8 13 18 23 28 33 38 43 48 \n",
            "4 9 14 19 24 29 34 39 44 49 \n",
            "==PROF== Disconnected from process 10957\n",
            "[10957] t_opt@127.0.0.1\n",
            "  transpose_optimized(int *, int *, int, int) (1, 1, 1)x(16, 16, 1), Context 1, Stream 7, Device 0, CC 7.5\n",
            "    Section: GPU Speed Of Light Throughput\n",
            "    ----------------------- ------------- ------------\n",
            "    Metric Name               Metric Unit Metric Value\n",
            "    ----------------------- ------------- ------------\n",
            "    DRAM Frequency          cycle/nsecond         4.70\n",
            "    SM Frequency            cycle/usecond       574.38\n",
            "    Elapsed Cycles                  cycle        2,206\n",
            "    Memory Throughput                   %         0.34\n",
            "    DRAM Throughput                     %         0.34\n",
            "    Duration                      usecond         3.84\n",
            "    L1/TEX Cache Throughput             %        17.33\n",
            "    L2 Cache Throughput                 %         0.32\n",
            "    SM Active Cycles                cycle        24.52\n",
            "    Compute (SM) Throughput             %         0.09\n",
            "    ----------------------- ------------- ------------\n",
            "\n",
            "    OPT   This kernel grid is too small to fill the available resources on this device, resulting in only 0.0 full      \n",
            "          waves across all SMs. Look at Launch Statistics for more details.                                             \n",
            "\n",
            "    Section: Launch Statistics\n",
            "    -------------------------------- --------------- ---------------\n",
            "    Metric Name                          Metric Unit    Metric Value\n",
            "    -------------------------------- --------------- ---------------\n",
            "    Block Size                                                   256\n",
            "    Function Cache Configuration                     CachePreferNone\n",
            "    Grid Size                                                      1\n",
            "    Registers Per Thread             register/thread              16\n",
            "    Shared Memory Configuration Size           Kbyte           32.77\n",
            "    Driver Shared Memory Per Block        byte/block               0\n",
            "    Dynamic Shared Memory Per Block       byte/block               0\n",
            "    Static Shared Memory Per Block       Kbyte/block            1.09\n",
            "    # SMs                                         SM              40\n",
            "    Threads                                   thread             256\n",
            "    Uses Green Context                                             0\n",
            "    Waves Per SM                                                0.01\n",
            "    -------------------------------- --------------- ---------------\n",
            "\n",
            "    OPT   Est. Speedup: 97.5%                                                                                           \n",
            "          The grid for this launch is configured to execute only 1 blocks, which is less than the GPU's 40              \n",
            "          multiprocessors. This can underutilize some multiprocessors. If you do not intend to execute this kernel      \n",
            "          concurrently with other workloads, consider reducing the block size to have at least one block per            \n",
            "          multiprocessor or increase the size of the grid to fully utilize the available hardware resources. See the    \n",
            "          Hardware Model (https://docs.nvidia.com/nsight-compute/ProfilingGuide/index.html#metrics-hw-model)            \n",
            "          description for more details on launch configurations.                                                        \n",
            "\n",
            "    Section: Occupancy\n",
            "    ------------------------------- ----------- ------------\n",
            "    Metric Name                     Metric Unit Metric Value\n",
            "    ------------------------------- ----------- ------------\n",
            "    Block Limit SM                        block           16\n",
            "    Block Limit Registers                 block           16\n",
            "    Block Limit Shared Mem                block           25\n",
            "    Block Limit Warps                     block            4\n",
            "    Theoretical Active Warps per SM        warp           32\n",
            "    Theoretical Occupancy                     %          100\n",
            "    Achieved Occupancy                        %        25.21\n",
            "    Achieved Active Warps Per SM           warp         8.07\n",
            "    ------------------------------- ----------- ------------\n",
            "\n",
            "    OPT   Est. Local Speedup: 74.79%                                                                                    \n",
            "          The difference between calculated theoretical (100.0%) and measured achieved occupancy (25.2%) can be the     \n",
            "          result of warp scheduling overheads or workload imbalances during the kernel execution. Load imbalances can   \n",
            "          occur between warps within a block as well as across blocks of the same kernel. See the CUDA Best Practices   \n",
            "          Guide (https://docs.nvidia.com/cuda/cuda-c-best-practices-guide/index.html#occupancy) for more details on     \n",
            "          optimizing occupancy.                                                                                         \n",
            "\n",
            "    Section: GPU and Memory Workload Distribution\n",
            "    -------------------------- ----------- ------------\n",
            "    Metric Name                Metric Unit Metric Value\n",
            "    -------------------------- ----------- ------------\n",
            "    Average DRAM Active Cycles       cycle        61.50\n",
            "    Total DRAM Elapsed Cycles        cycle      144,384\n",
            "    Average L1 Active Cycles         cycle        24.52\n",
            "    Total L1 Elapsed Cycles          cycle       85,032\n",
            "    Average L2 Active Cycles         cycle        71.47\n",
            "    Total L2 Elapsed Cycles          cycle      103,200\n",
            "    Average SM Active Cycles         cycle        24.52\n",
            "    Total SM Elapsed Cycles          cycle       85,032\n",
            "    Average SMSP Active Cycles       cycle        23.52\n",
            "    Total SMSP Elapsed Cycles        cycle      340,128\n",
            "    -------------------------- ----------- ------------\n",
            "\n"
          ]
        }
      ]
    },
    {
      "cell_type": "code",
      "source": [
        "!nvprof ./t_opt"
      ],
      "metadata": {
        "colab": {
          "base_uri": "https://localhost:8080/"
        },
        "id": "cZoniLoGF4Pu",
        "outputId": "577f4898-dfb6-42c3-e9f7-c589e05f2d3b"
      },
      "execution_count": null,
      "outputs": [
        {
          "output_type": "stream",
          "name": "stdout",
          "text": [
            "==3010== NVPROF is profiling process 3010, command: ./t_opt\n",
            "Input Matrix:\n",
            "0 1 2 3 4 \n",
            "5 6 7 8 9 \n",
            "10 11 12 13 14 \n",
            "15 16 17 18 19 \n",
            "20 21 22 23 24 \n",
            "25 26 27 28 29 \n",
            "30 31 32 33 34 \n",
            "35 36 37 38 39 \n",
            "40 41 42 43 44 \n",
            "45 46 47 48 49 \n",
            "\n",
            "Transposed Matrix:\n",
            "0 5 10 15 20 25 30 35 40 45 \n",
            "1 6 11 16 21 26 31 36 41 46 \n",
            "2 7 12 17 22 27 32 37 42 47 \n",
            "3 8 13 18 23 28 33 38 43 48 \n",
            "4 9 14 19 24 29 34 39 44 49 \n",
            "==3010== Profiling application: ./t_opt\n",
            "==3010== Profiling result:\n",
            "            Type  Time(%)      Time     Calls       Avg       Min       Max  Name\n",
            " GPU activities:   50.96%  3.3920us         1  3.3920us  3.3920us  3.3920us  transpose_optimized(int*, int*, int, int)\n",
            "                   31.25%  2.0800us         1  2.0800us  2.0800us  2.0800us  [CUDA memcpy DtoH]\n",
            "                   17.79%  1.1840us         1  1.1840us  1.1840us  1.1840us  [CUDA memcpy HtoD]\n",
            "      API calls:   65.53%  120.01ms         2  60.006ms  10.513us  120.00ms  cudaMalloc\n",
            "                   34.22%  62.661ms         1  62.661ms  62.661ms  62.661ms  cudaLaunchKernel\n",
            "                    0.11%  201.01us       114  1.7630us     237ns  85.836us  cuDeviceGetAttribute\n",
            "                    0.09%  169.61us         2  84.804us  12.141us  157.47us  cudaFree\n",
            "                    0.03%  60.515us         2  30.257us  27.829us  32.686us  cudaMemcpy\n",
            "                    0.01%  12.007us         1  12.007us  12.007us  12.007us  cuDeviceGetName\n",
            "                    0.00%  8.0560us         1  8.0560us  8.0560us  8.0560us  cuDeviceGetPCIBusId\n",
            "                    0.00%  5.8030us         1  5.8030us  5.8030us  5.8030us  cuDeviceTotalMem\n",
            "                    0.00%  2.3250us         3     775ns     329ns  1.6310us  cuDeviceGetCount\n",
            "                    0.00%     922ns         2     461ns     299ns     623ns  cuDeviceGet\n",
            "                    0.00%     430ns         1     430ns     430ns     430ns  cuModuleGetLoadingMode\n",
            "                    0.00%     416ns         1     416ns     416ns     416ns  cuDeviceGetUuid\n"
          ]
        }
      ]
    },
    {
      "cell_type": "code",
      "source": [
        "!ncu ./t_opt"
      ],
      "metadata": {
        "colab": {
          "base_uri": "https://localhost:8080/"
        },
        "id": "oIUjIYqqOixI",
        "outputId": "5798e149-fb36-42ad-b77f-c192e1a039eb"
      },
      "execution_count": null,
      "outputs": [
        {
          "output_type": "stream",
          "name": "stdout",
          "text": [
            "==PROF== Connected to process 23671 (/content/t_opt)\n",
            "==PROF== Profiling \"transpose_optimized\" - 0: 0%....50%....100% - 9 passes\n",
            "Input Matrix:\n",
            "0 1 2 3 4 \n",
            "5 6 7 8 9 \n",
            "10 11 12 13 14 \n",
            "15 16 17 18 19 \n",
            "20 21 22 23 24 \n",
            "25 26 27 28 29 \n",
            "30 31 32 33 34 \n",
            "35 36 37 38 39 \n",
            "40 41 42 43 44 \n",
            "45 46 47 48 49 \n",
            "\n",
            "Transposed Matrix:\n",
            "0 5 10 15 20 25 30 35 40 45 \n",
            "1 6 11 16 21 26 31 36 41 46 \n",
            "2 7 12 17 22 27 32 37 42 47 \n",
            "3 8 13 18 23 28 33 38 43 48 \n",
            "4 9 14 19 24 29 34 39 44 49 \n",
            "==PROF== Disconnected from process 23671\n",
            "[23671] t_opt@127.0.0.1\n",
            "  transpose_optimized(int *, int *, int, int) (1, 1, 1)x(16, 16, 1), Context 1, Stream 7, Device 0, CC 7.5\n",
            "    Section: GPU Speed Of Light Throughput\n",
            "    ----------------------- ------------- ------------\n",
            "    Metric Name               Metric Unit Metric Value\n",
            "    ----------------------- ------------- ------------\n",
            "    DRAM Frequency          cycle/nsecond         4.73\n",
            "    SM Frequency            cycle/usecond       576.41\n",
            "    Elapsed Cycles                  cycle        2,214\n",
            "    Memory Throughput                   %         0.35\n",
            "    DRAM Throughput                     %         0.34\n",
            "    Duration                      usecond         3.84\n",
            "    L1/TEX Cache Throughput             %        17.36\n",
            "    L2 Cache Throughput                 %         0.35\n",
            "    SM Active Cycles                cycle        24.48\n",
            "    Compute (SM) Throughput             %         0.09\n",
            "    ----------------------- ------------- ------------\n",
            "\n",
            "    OPT   This kernel grid is too small to fill the available resources on this device, resulting in only 0.0 full      \n",
            "          waves across all SMs. Look at Launch Statistics for more details.                                             \n",
            "\n",
            "    Section: Launch Statistics\n",
            "    -------------------------------- --------------- ---------------\n",
            "    Metric Name                          Metric Unit    Metric Value\n",
            "    -------------------------------- --------------- ---------------\n",
            "    Block Size                                                   256\n",
            "    Function Cache Configuration                     CachePreferNone\n",
            "    Grid Size                                                      1\n",
            "    Registers Per Thread             register/thread              16\n",
            "    Shared Memory Configuration Size           Kbyte           32.77\n",
            "    Driver Shared Memory Per Block        byte/block               0\n",
            "    Dynamic Shared Memory Per Block       byte/block               0\n",
            "    Static Shared Memory Per Block       Kbyte/block            1.09\n",
            "    # SMs                                         SM              40\n",
            "    Threads                                   thread             256\n",
            "    Uses Green Context                                             0\n",
            "    Waves Per SM                                                0.01\n",
            "    -------------------------------- --------------- ---------------\n",
            "\n",
            "    OPT   Est. Speedup: 97.5%                                                                                           \n",
            "          The grid for this launch is configured to execute only 1 blocks, which is less than the GPU's 40              \n",
            "          multiprocessors. This can underutilize some multiprocessors. If you do not intend to execute this kernel      \n",
            "          concurrently with other workloads, consider reducing the block size to have at least one block per            \n",
            "          multiprocessor or increase the size of the grid to fully utilize the available hardware resources. See the    \n",
            "          Hardware Model (https://docs.nvidia.com/nsight-compute/ProfilingGuide/index.html#metrics-hw-model)            \n",
            "          description for more details on launch configurations.                                                        \n",
            "\n",
            "    Section: Occupancy\n",
            "    ------------------------------- ----------- ------------\n",
            "    Metric Name                     Metric Unit Metric Value\n",
            "    ------------------------------- ----------- ------------\n",
            "    Block Limit SM                        block           16\n",
            "    Block Limit Registers                 block           16\n",
            "    Block Limit Shared Mem                block           25\n",
            "    Block Limit Warps                     block            4\n",
            "    Theoretical Active Warps per SM        warp           32\n",
            "    Theoretical Occupancy                     %          100\n",
            "    Achieved Occupancy                        %        25.36\n",
            "    Achieved Active Warps Per SM           warp         8.12\n",
            "    ------------------------------- ----------- ------------\n",
            "\n",
            "    OPT   Est. Local Speedup: 74.64%                                                                                    \n",
            "          The difference between calculated theoretical (100.0%) and measured achieved occupancy (25.4%) can be the     \n",
            "          result of warp scheduling overheads or workload imbalances during the kernel execution. Load imbalances can   \n",
            "          occur between warps within a block as well as across blocks of the same kernel. See the CUDA Best Practices   \n",
            "          Guide (https://docs.nvidia.com/cuda/cuda-c-best-practices-guide/index.html#occupancy) for more details on     \n",
            "          optimizing occupancy.                                                                                         \n",
            "\n",
            "    Section: GPU and Memory Workload Distribution\n",
            "    -------------------------- ----------- ------------\n",
            "    Metric Name                Metric Unit Metric Value\n",
            "    -------------------------- ----------- ------------\n",
            "    Average DRAM Active Cycles       cycle        61.50\n",
            "    Total DRAM Elapsed Cycles        cycle      145,408\n",
            "    Average L1 Active Cycles         cycle        24.48\n",
            "    Total L1 Elapsed Cycles          cycle       85,208\n",
            "    Average L2 Active Cycles         cycle        77.34\n",
            "    Total L2 Elapsed Cycles          cycle      103,520\n",
            "    Average SM Active Cycles         cycle        24.48\n",
            "    Total SM Elapsed Cycles          cycle       85,208\n",
            "    Average SMSP Active Cycles       cycle        23.48\n",
            "    Total SMSP Elapsed Cycles        cycle      340,832\n",
            "    -------------------------- ----------- ------------\n",
            "\n"
          ]
        }
      ]
    },
    {
      "cell_type": "markdown",
      "source": [
        "### Qual o valor da taxa de operações por acesso à memória do kernel T_opt?\n",
        "\n",
        "### **1.0 Flops/Byte**"
      ],
      "metadata": {
        "id": "dw_PYwE4HOwZ"
      }
    },
    {
      "cell_type": "markdown",
      "source": [
        "# Bubblesort\n",
        "###Bubblesort é um algoritmo utilizado para ordenação de itens em um array, o processo é realizado comparando-se os elementos do array dois a dois\n",
        "https://pt.wikipedia.org/wiki/Bubble_sort\n",
        "\n",
        "\n",
        "procedure bubbleSort( A : lista de itens ordenaveis ) defined as:\n",
        "```  \n",
        "do\n",
        "    trocado := false\n",
        "    for each i in 0 to length( A ) - 2 do:\n",
        "      // verificar se os elementos estão na ordem certa\n",
        "      if A[ i ] > A[ i + 1 ] then\n",
        "        // trocar elementos de lugar\n",
        "        trocar( A[ i ], A[ i + 1 ] )\n",
        "        trocado := true\n",
        "      end if\n",
        "    end for\n",
        "  // enquanto houver elementos sendo reordenados.\n",
        "  while trocado\n",
        "end procedure\n",
        "```\n",
        "Com base no algoritmo de bubblesort, responda as questões abaixo:"
      ],
      "metadata": {
        "id": "HEnIU1xiF6ou"
      }
    },
    {
      "cell_type": "markdown",
      "source": [
        "### Considerando que temos um vetor de no máximo 1024 elementos (N=[1, 1024]). Defina um kernel que utiliza apenas 1 bloco para realizar a ordenação deste vetor."
      ],
      "metadata": {
        "id": "WMgkpn8EGENu"
      }
    },
    {
      "cell_type": "code",
      "source": [
        "%%file bubble_sort.cu\n",
        "#include <stdio.h>\n",
        "#include <stdlib.h>\n",
        "#include <time.h>\n",
        "#include <cuda_runtime.h>\n",
        "\n",
        "__device__ int mutex = 0;\n",
        "\n",
        "__device__ void lock(int *mutex)\n",
        "{\n",
        "    while (atomicCAS(mutex, 0, 1) != 0);\n",
        "}\n",
        "\n",
        "__device__ void unlock(int *mutex)\n",
        "{\n",
        "    atomicExch(mutex, 0);\n",
        "}\n",
        "\n",
        "__device__ void swap(float *A, int i, int j)\n",
        "{\n",
        "    float t = A[i];\n",
        "    A[i] = A[j];\n",
        "    A[j] = t;\n",
        "}\n",
        "\n",
        "__global__ void bubble_sort(float *A, int n)\n",
        "{\n",
        "    int idx = threadIdx.x + blockIdx.x * blockDim.x;\n",
        "\n",
        "    if (idx < n)\n",
        "    {\n",
        "        for (int i = 0; i < n - 1; i++)\n",
        "        {\n",
        "            for (int j = 0; j < n - i - 1; j++)\n",
        "            {\n",
        "                lock(&mutex);\n",
        "                if (A[j] > A[j + 1]) swap(A, j, j + 1);\n",
        "                unlock(&mutex);\n",
        "            }\n",
        "        }\n",
        "    }\n",
        "}\n",
        "\n",
        "int main()\n",
        "{\n",
        "    srand(time(NULL));\n",
        "    int n = 10;\n",
        "\n",
        "    float *A_h, *A_d;\n",
        "\n",
        "    A_h = (float *) malloc(n * sizeof(float));\n",
        "    cudaMalloc(&A_d, n * sizeof(float));\n",
        "\n",
        "    for (int i = 0; i < n; i++)\n",
        "    {\n",
        "        A_h[i] = (float) rand() / (float) RAND_MAX;\n",
        "    }\n",
        "\n",
        "    for (int i = 0; i < n; i++)\n",
        "    {\n",
        "        printf(\"%.2f \", A_h[i]);\n",
        "    }\n",
        "    printf(\"\\n\");\n",
        "\n",
        "    cudaMemcpy(A_d, A_h, n * sizeof(float), cudaMemcpyHostToDevice);\n",
        "    bubble_sort<<<1, 1>>>(A_d, n);\n",
        "    cudaMemcpy(A_h, A_d, n * sizeof(float), cudaMemcpyDeviceToHost);\n",
        "\n",
        "    for (int i = 0; i < n; i++)\n",
        "    {\n",
        "        printf(\"%.2f \", A_h[i]);\n",
        "    }\n",
        "    printf(\"\\n\");\n",
        "\n",
        "    free(A_h);\n",
        "    cudaFree(A_d);\n",
        "\n",
        "    return 0;\n",
        "}"
      ],
      "metadata": {
        "id": "JDjKKRXbMDfe",
        "colab": {
          "base_uri": "https://localhost:8080/"
        },
        "outputId": "11b93441-f151-4067-d05f-304986f0efcd"
      },
      "execution_count": null,
      "outputs": [
        {
          "output_type": "stream",
          "name": "stdout",
          "text": [
            "Writing bubble_sort.cu\n"
          ]
        }
      ]
    },
    {
      "cell_type": "code",
      "source": [
        "!nvcc -o bubble_sort bubble_sort.cu"
      ],
      "metadata": {
        "id": "KyjtEoizv7UW"
      },
      "execution_count": null,
      "outputs": []
    },
    {
      "cell_type": "code",
      "source": [
        "%%time\n",
        "!./bubble_sort"
      ],
      "metadata": {
        "colab": {
          "base_uri": "https://localhost:8080/"
        },
        "id": "FqYUbh1938g2",
        "outputId": "7e33c32c-c117-4287-fc3a-4353ebc9f68d"
      },
      "execution_count": null,
      "outputs": [
        {
          "output_type": "stream",
          "name": "stdout",
          "text": [
            "0.64 0.09 0.04 0.84 0.11 0.19 0.41 0.86 0.16 0.77 \n",
            "0.04 0.09 0.11 0.16 0.19 0.41 0.64 0.77 0.84 0.86 \n",
            "CPU times: user 4.89 ms, sys: 828 µs, total: 5.71 ms\n",
            "Wall time: 206 ms\n"
          ]
        }
      ]
    },
    {
      "cell_type": "code",
      "source": [
        "!ncu bubble_sort"
      ],
      "metadata": {
        "colab": {
          "base_uri": "https://localhost:8080/"
        },
        "id": "xEdBP-so3-JL",
        "outputId": "ba3c31db-0fa0-471a-9f60-c3a8258d8d1d"
      },
      "execution_count": null,
      "outputs": [
        {
          "output_type": "stream",
          "name": "stdout",
          "text": [
            "==PROF== Connected to process 16389 (/content/bubble_sort)\n",
            "0.22 0.84 0.46 0.81 0.91 0.86 0.50 0.25 0.08 0.53 \n",
            "==PROF== Profiling \"bubble_sort(float *, int)\" - 0: 0%....50%....100% - 9 passes\n",
            "0.08 0.22 0.25 0.46 0.50 0.53 0.81 0.84 0.86 0.91 \n",
            "==PROF== Disconnected from process 16389\n",
            "[16389] bubble_sort@127.0.0.1\n",
            "  bubble_sort(float *, int) (1, 1, 1)x(1, 1, 1), Context 1, Stream 7, Device 0, CC 7.5\n",
            "    Section: GPU Speed Of Light Throughput\n",
            "    ----------------------- ------------- ------------\n",
            "    Metric Name               Metric Unit Metric Value\n",
            "    ----------------------- ------------- ------------\n",
            "    DRAM Frequency          cycle/nsecond         4.96\n",
            "    SM Frequency            cycle/usecond       583.98\n",
            "    Elapsed Cycles                  cycle       16,708\n",
            "    Memory Throughput                   %         0.09\n",
            "    DRAM Throughput                     %         0.04\n",
            "    Duration                      usecond        28.61\n",
            "    L1/TEX Cache Throughput             %         3.51\n",
            "    L2 Cache Throughput                 %         0.09\n",
            "    SM Active Cycles                cycle       385.57\n",
            "    Compute (SM) Throughput             %         0.08\n",
            "    ----------------------- ------------- ------------\n",
            "\n",
            "    OPT   This kernel grid is too small to fill the available resources on this device, resulting in only 0.0 full      \n",
            "          waves across all SMs. Look at Launch Statistics for more details.                                             \n",
            "\n",
            "    Section: Launch Statistics\n",
            "    -------------------------------- --------------- ---------------\n",
            "    Metric Name                          Metric Unit    Metric Value\n",
            "    -------------------------------- --------------- ---------------\n",
            "    Block Size                                                     1\n",
            "    Function Cache Configuration                     CachePreferNone\n",
            "    Grid Size                                                      1\n",
            "    Registers Per Thread             register/thread              16\n",
            "    Shared Memory Configuration Size           Kbyte           32.77\n",
            "    Driver Shared Memory Per Block        byte/block               0\n",
            "    Dynamic Shared Memory Per Block       byte/block               0\n",
            "    Static Shared Memory Per Block        byte/block               0\n",
            "    # SMs                                         SM              40\n",
            "    Threads                                   thread               1\n",
            "    Uses Green Context                                             0\n",
            "    Waves Per SM                                                0.00\n",
            "    -------------------------------- --------------- ---------------\n",
            "\n",
            "    OPT   Est. Speedup: 96.88%                                                                                          \n",
            "          Threads are executed in groups of 32 threads called warps. This kernel launch is configured to execute 1      \n",
            "          threads per block. Consequently, some threads in a warp are masked off and those hardware resources are       \n",
            "          unused. Try changing the number of threads per block to be a multiple of 32 threads. Between 128 and 256      \n",
            "          threads per block is a good initial range for experimentation. Use smaller thread blocks rather than one      \n",
            "          large thread block per multiprocessor if latency affects performance.  This is particularly beneficial to     \n",
            "          kernels that frequently call __syncthreads(). See the Hardware Model                                          \n",
            "          (https://docs.nvidia.com/nsight-compute/ProfilingGuide/index.html#metrics-hw-model) description for more      \n",
            "          details on launch configurations.                                                                             \n",
            "    ----- --------------------------------------------------------------------------------------------------------------\n",
            "    OPT   Est. Speedup: 97.5%                                                                                           \n",
            "          The grid for this launch is configured to execute only 1 blocks, which is less than the GPU's 40              \n",
            "          multiprocessors. This can underutilize some multiprocessors. If you do not intend to execute this kernel      \n",
            "          concurrently with other workloads, consider reducing the block size to have at least one block per            \n",
            "          multiprocessor or increase the size of the grid to fully utilize the available hardware resources. See the    \n",
            "          Hardware Model (https://docs.nvidia.com/nsight-compute/ProfilingGuide/index.html#metrics-hw-model)            \n",
            "          description for more details on launch configurations.                                                        \n",
            "\n",
            "    Section: Occupancy\n",
            "    ------------------------------- ----------- ------------\n",
            "    Metric Name                     Metric Unit Metric Value\n",
            "    ------------------------------- ----------- ------------\n",
            "    Block Limit SM                        block           16\n",
            "    Block Limit Registers                 block          128\n",
            "    Block Limit Shared Mem                block           16\n",
            "    Block Limit Warps                     block           32\n",
            "    Theoretical Active Warps per SM        warp           16\n",
            "    Theoretical Occupancy                     %           50\n",
            "    Achieved Occupancy                        %         3.15\n",
            "    Achieved Active Warps Per SM           warp         1.01\n",
            "    ------------------------------- ----------- ------------\n",
            "\n",
            "    OPT   Est. Local Speedup: 93.71%                                                                                    \n",
            "          The difference between calculated theoretical (50.0%) and measured achieved occupancy (3.1%) can be the       \n",
            "          result of warp scheduling overheads or workload imbalances during the kernel execution. Load imbalances can   \n",
            "          occur between warps within a block as well as across blocks of the same kernel. See the CUDA Best Practices   \n",
            "          Guide (https://docs.nvidia.com/cuda/cuda-c-best-practices-guide/index.html#occupancy) for more details on     \n",
            "          optimizing occupancy.                                                                                         \n",
            "    ----- --------------------------------------------------------------------------------------------------------------\n",
            "    OPT   Est. Local Speedup: 50%                                                                                       \n",
            "          The 4.00 theoretical warps per scheduler this kernel can issue according to its occupancy are below the       \n",
            "          hardware maximum of 8. This kernel's theoretical occupancy (50.0%) is limited by the number of blocks that    \n",
            "          can fit on the SM. This kernel's theoretical occupancy (50.0%) is limited by the required amount of shared    \n",
            "          memory.                                                                                                       \n",
            "\n",
            "    Section: GPU and Memory Workload Distribution\n",
            "    -------------------------- ----------- ------------\n",
            "    Metric Name                Metric Unit Metric Value\n",
            "    -------------------------- ----------- ------------\n",
            "    Average DRAM Active Cycles       cycle           62\n",
            "    Total DRAM Elapsed Cycles        cycle    1,134,592\n",
            "    Average L1 Active Cycles         cycle       385.57\n",
            "    Total L1 Elapsed Cycles          cycle      663,200\n",
            "    Average L2 Active Cycles         cycle       244.47\n",
            "    Total L2 Elapsed Cycles          cycle      781,376\n",
            "    Average SM Active Cycles         cycle       385.57\n",
            "    Total SM Elapsed Cycles          cycle      663,200\n",
            "    Average SMSP Active Cycles       cycle        96.28\n",
            "    Total SMSP Elapsed Cycles        cycle    2,652,800\n",
            "    -------------------------- ----------- ------------\n",
            "\n"
          ]
        }
      ]
    },
    {
      "cell_type": "markdown",
      "source": [
        "### Como você ajustaria o seu kernel para entradas de valores arbitrários?\n",
        "Implemente a versão customizada que pode executar a ordenação em múltiplos blocos"
      ],
      "metadata": {
        "id": "PxoJa9tf0XeX"
      }
    },
    {
      "cell_type": "code",
      "source": [
        "%%writefile bubble_sort_2.cu\n",
        "#include <stdio.h>\n",
        "#include <stdlib.h>\n",
        "#include <time.h>\n",
        "#include <cuda_runtime.h>\n",
        "\n",
        "__device__ int mutex = 0;\n",
        "\n",
        "__device__ void lock(int *mutex)\n",
        "{\n",
        "    while (atomicCAS(mutex, 0, 1) != 0);\n",
        "}\n",
        "\n",
        "__device__ void unlock(int *mutex)\n",
        "{\n",
        "    atomicExch(mutex, 0);\n",
        "}\n",
        "\n",
        "__device__ void swap(float *A, int i, int j)\n",
        "{\n",
        "    float t = A[i];\n",
        "    A[i] = A[j];\n",
        "    A[j] = t;\n",
        "}\n",
        "\n",
        "__global__ void bubble_sort(float *A, int n)\n",
        "{\n",
        "    int idx = threadIdx.x + blockIdx.x * blockDim.x;\n",
        "\n",
        "    if (idx < n)\n",
        "    {\n",
        "        for (int i = 0; i < n - 1; i++)\n",
        "        {\n",
        "            for (int j = 0; j < n - i - 1; j++)\n",
        "            {\n",
        "                lock(&mutex);\n",
        "                if (A[j] > A[j + 1]) swap(A, j, j + 1);\n",
        "                unlock(&mutex);\n",
        "            }\n",
        "        }\n",
        "    }\n",
        "}\n",
        "\n",
        "int main()\n",
        "{\n",
        "    srand(time(NULL));\n",
        "    int n = 10;\n",
        "\n",
        "    float *A_h, *A_d;\n",
        "\n",
        "    A_h = (float *) malloc(n * sizeof(float));\n",
        "    cudaMalloc(&A_d, n * sizeof(float));\n",
        "\n",
        "    for (int i = 0; i < n; i++)\n",
        "    {\n",
        "        A_h[i] = (float) rand() / (float) RAND_MAX;\n",
        "    }\n",
        "\n",
        "    for (int i = 0; i < n; i++)\n",
        "    {\n",
        "        printf(\"%.2f \", A_h[i]);\n",
        "    }\n",
        "    printf(\"\\n\");\n",
        "\n",
        "    cudaMemcpy(A_d, A_h, n * sizeof(float), cudaMemcpyHostToDevice);\n",
        "    bubble_sort<<<n, 1>>>(A_d, n);\n",
        "    cudaMemcpy(A_h, A_d, n * sizeof(float), cudaMemcpyDeviceToHost);\n",
        "\n",
        "    for (int i = 0; i < n; i++)\n",
        "    {\n",
        "        printf(\"%.2f \", A_h[i]);\n",
        "    }\n",
        "    printf(\"\\n\");\n",
        "\n",
        "    free(A_h);\n",
        "    cudaFree(A_d);\n",
        "\n",
        "    return 0;\n",
        "}"
      ],
      "metadata": {
        "colab": {
          "base_uri": "https://localhost:8080/"
        },
        "outputId": "4b1d966b-5f0a-446f-aae2-7694ff2ccde3",
        "id": "k3XnFMIz0Xeh"
      },
      "execution_count": null,
      "outputs": [
        {
          "output_type": "stream",
          "name": "stdout",
          "text": [
            "Writing bubble_sort_2.cu\n"
          ]
        }
      ]
    },
    {
      "cell_type": "code",
      "source": [
        "!nvcc -o bubble_sort_2 bubble_sort_2.cu"
      ],
      "metadata": {
        "id": "8vwXncRg0Xei"
      },
      "execution_count": null,
      "outputs": []
    },
    {
      "cell_type": "code",
      "source": [
        "%%time\n",
        "!./bubble_sort_2"
      ],
      "metadata": {
        "colab": {
          "base_uri": "https://localhost:8080/"
        },
        "outputId": "80979bcb-80d2-4731-baf6-fc858aca1484",
        "id": "shIVbPs90Xei"
      },
      "execution_count": null,
      "outputs": [
        {
          "output_type": "stream",
          "name": "stdout",
          "text": [
            "0.79 0.61 0.46 0.78 0.35 0.38 0.47 0.65 0.56 0.49 \n",
            "0.35 0.38 0.46 0.47 0.49 0.61 0.65 0.78 0.79 0.79 \n",
            "CPU times: user 3.88 ms, sys: 1.95 ms, total: 5.83 ms\n",
            "Wall time: 205 ms\n"
          ]
        }
      ]
    },
    {
      "cell_type": "code",
      "source": [
        "!ncu bubble_sort_2"
      ],
      "metadata": {
        "colab": {
          "base_uri": "https://localhost:8080/"
        },
        "outputId": "f8991f16-36d5-4a62-d7c0-e0e0a83739ff",
        "id": "_2OlkeDM0Xei"
      },
      "execution_count": null,
      "outputs": [
        {
          "output_type": "stream",
          "name": "stdout",
          "text": [
            "==PROF== Connected to process 17961 (/content/bubble_sort_2)\n",
            "0.00 0.93 0.56 0.92 0.72 0.82 0.19 0.23 0.67 0.15 \n",
            "==PROF== Profiling \"bubble_sort(float *, int)\" - 0: 0%....50%....100% - 9 passes\n",
            "0.00 0.19 0.23 0.56 0.72 0.67 0.72 0.82 0.93 0.93 \n",
            "==PROF== Disconnected from process 17961\n",
            "[17961] bubble_sort_2@127.0.0.1\n",
            "  bubble_sort(float *, int) (10, 1, 1)x(1, 1, 1), Context 1, Stream 7, Device 0, CC 7.5\n",
            "    Section: GPU Speed Of Light Throughput\n",
            "    ----------------------- ------------- ------------\n",
            "    Metric Name               Metric Unit Metric Value\n",
            "    ----------------------- ------------- ------------\n",
            "    DRAM Frequency          cycle/nsecond         5.01\n",
            "    SM Frequency            cycle/usecond       584.80\n",
            "    Elapsed Cycles                  cycle      132,924\n",
            "    Memory Throughput                   %         0.28\n",
            "    DRAM Throughput                     %         0.01\n",
            "    Duration                      usecond       227.30\n",
            "    L1/TEX Cache Throughput             %         1.20\n",
            "    L2 Cache Throughput                 %         0.12\n",
            "    SM Active Cycles                cycle    30,548.60\n",
            "    Compute (SM) Throughput             %         0.28\n",
            "    ----------------------- ------------- ------------\n",
            "\n",
            "    OPT   This kernel grid is too small to fill the available resources on this device, resulting in only 0.0 full      \n",
            "          waves across all SMs. Look at Launch Statistics for more details.                                             \n",
            "\n",
            "    Section: Launch Statistics\n",
            "    -------------------------------- --------------- ---------------\n",
            "    Metric Name                          Metric Unit    Metric Value\n",
            "    -------------------------------- --------------- ---------------\n",
            "    Block Size                                                     1\n",
            "    Function Cache Configuration                     CachePreferNone\n",
            "    Grid Size                                                     10\n",
            "    Registers Per Thread             register/thread              16\n",
            "    Shared Memory Configuration Size           Kbyte           32.77\n",
            "    Driver Shared Memory Per Block        byte/block               0\n",
            "    Dynamic Shared Memory Per Block       byte/block               0\n",
            "    Static Shared Memory Per Block        byte/block               0\n",
            "    # SMs                                         SM              40\n",
            "    Threads                                   thread              10\n",
            "    Uses Green Context                                             0\n",
            "    Waves Per SM                                                0.02\n",
            "    -------------------------------- --------------- ---------------\n",
            "\n",
            "    OPT   Est. Speedup: 96.88%                                                                                          \n",
            "          Threads are executed in groups of 32 threads called warps. This kernel launch is configured to execute 1      \n",
            "          threads per block. Consequently, some threads in a warp are masked off and those hardware resources are       \n",
            "          unused. Try changing the number of threads per block to be a multiple of 32 threads. Between 128 and 256      \n",
            "          threads per block is a good initial range for experimentation. Use smaller thread blocks rather than one      \n",
            "          large thread block per multiprocessor if latency affects performance.  This is particularly beneficial to     \n",
            "          kernels that frequently call __syncthreads(). See the Hardware Model                                          \n",
            "          (https://docs.nvidia.com/nsight-compute/ProfilingGuide/index.html#metrics-hw-model) description for more      \n",
            "          details on launch configurations.                                                                             \n",
            "    ----- --------------------------------------------------------------------------------------------------------------\n",
            "    OPT   Est. Speedup: 75%                                                                                             \n",
            "          The grid for this launch is configured to execute only 10 blocks, which is less than the GPU's 40             \n",
            "          multiprocessors. This can underutilize some multiprocessors. If you do not intend to execute this kernel      \n",
            "          concurrently with other workloads, consider reducing the block size to have at least one block per            \n",
            "          multiprocessor or increase the size of the grid to fully utilize the available hardware resources. See the    \n",
            "          Hardware Model (https://docs.nvidia.com/nsight-compute/ProfilingGuide/index.html#metrics-hw-model)            \n",
            "          description for more details on launch configurations.                                                        \n",
            "\n",
            "    Section: Occupancy\n",
            "    ------------------------------- ----------- ------------\n",
            "    Metric Name                     Metric Unit Metric Value\n",
            "    ------------------------------- ----------- ------------\n",
            "    Block Limit SM                        block           16\n",
            "    Block Limit Registers                 block          128\n",
            "    Block Limit Shared Mem                block           16\n",
            "    Block Limit Warps                     block           32\n",
            "    Theoretical Active Warps per SM        warp           16\n",
            "    Theoretical Occupancy                     %           50\n",
            "    Achieved Occupancy                        %         3.06\n",
            "    Achieved Active Warps Per SM           warp         0.98\n",
            "    ------------------------------- ----------- ------------\n",
            "\n",
            "    OPT   Est. Local Speedup: 93.88%                                                                                    \n",
            "          The difference between calculated theoretical (50.0%) and measured achieved occupancy (3.1%) can be the       \n",
            "          result of warp scheduling overheads or workload imbalances during the kernel execution. Load imbalances can   \n",
            "          occur between warps within a block as well as across blocks of the same kernel. See the CUDA Best Practices   \n",
            "          Guide (https://docs.nvidia.com/cuda/cuda-c-best-practices-guide/index.html#occupancy) for more details on     \n",
            "          optimizing occupancy.                                                                                         \n",
            "    ----- --------------------------------------------------------------------------------------------------------------\n",
            "    OPT   Est. Local Speedup: 50%                                                                                       \n",
            "          The 4.00 theoretical warps per scheduler this kernel can issue according to its occupancy are below the       \n",
            "          hardware maximum of 8. This kernel's theoretical occupancy (50.0%) is limited by the number of blocks that    \n",
            "          can fit on the SM. This kernel's theoretical occupancy (50.0%) is limited by the required amount of shared    \n",
            "          memory.                                                                                                       \n",
            "\n",
            "    Section: GPU and Memory Workload Distribution\n",
            "    -------------------------- ----------- ------------\n",
            "    Metric Name                Metric Unit Metric Value\n",
            "    -------------------------- ----------- ------------\n",
            "    Average DRAM Active Cycles       cycle           62\n",
            "    Total DRAM Elapsed Cycles        cycle    9,102,336\n",
            "    Average L1 Active Cycles         cycle    30,548.60\n",
            "    Total L1 Elapsed Cycles          cycle    5,322,840\n",
            "    Average L2 Active Cycles         cycle     4,653.12\n",
            "    Total L2 Elapsed Cycles          cycle    6,216,672\n",
            "    Average SM Active Cycles         cycle    30,548.60\n",
            "    Total SM Elapsed Cycles          cycle    5,322,840\n",
            "    Average SMSP Active Cycles       cycle     7,636.02\n",
            "    Total SMSP Elapsed Cycles        cycle   21,291,360\n",
            "    -------------------------- ----------- ------------\n",
            "\n",
            "    OPT   Est. Speedup: 17.63%                                                                                          \n",
            "          One or more SMs have a much lower number of active cycles than the average number of active cycles. Maximum   \n",
            "          instance value is 76.79% above the average, while the minimum instance value is 100.00% below the average.    \n",
            "    ----- --------------------------------------------------------------------------------------------------------------\n",
            "    OPT   Est. Speedup: 5.405%                                                                                          \n",
            "          One or more SMSPs have a much lower number of active cycles than the average number of active cycles. Maximum \n",
            "          instance value is 94.20% above the average, while the minimum instance value is 100.00% below the average.    \n",
            "    ----- --------------------------------------------------------------------------------------------------------------\n",
            "    OPT   Est. Speedup: 17.63%                                                                                          \n",
            "          One or more L1 Slices have a much lower number of active cycles than the average number of active cycles.     \n",
            "          Maximum instance value is 76.79% above the average, while the minimum instance value is 100.00% below the     \n",
            "          average.                                                                                                      \n",
            "\n"
          ]
        }
      ]
    }
  ]
}